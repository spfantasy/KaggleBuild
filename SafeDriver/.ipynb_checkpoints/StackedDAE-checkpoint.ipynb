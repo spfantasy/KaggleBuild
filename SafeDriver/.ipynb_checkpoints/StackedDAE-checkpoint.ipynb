{
 "cells": [
  {
   "cell_type": "markdown",
   "metadata": {},
   "source": [
    "# A implementation of StackedDAE"
   ]
  },
  {
   "cell_type": "code",
   "execution_count": 1,
   "metadata": {},
   "outputs": [
    {
     "name": "stderr",
     "output_type": "stream",
     "text": [
      "/Users/shihaoli/miniconda2/envs/ml/lib/python3.6/importlib/_bootstrap.py:219: RuntimeWarning: compiletime version 3.5 of module 'tensorflow.python.framework.fast_tensor_util' does not match runtime version 3.6\n",
      "  return f(*args, **kwds)\n"
     ]
    }
   ],
   "source": [
    "import tensorflow as tf"
   ]
  },
  {
   "cell_type": "code",
   "execution_count": 5,
   "metadata": {
    "collapsed": true
   },
   "outputs": [],
   "source": [
    "class DAELayer:\n",
    "    def __init__(self, layersize, input_tensor, is_training, is_evaluating, name = None):\n",
    "        '''\n",
    "        defines a layer to layer autoencoder\n",
    "        @param[layersize] provide (dim_input, dim_output) tuple\n",
    "        @param[input_tensor] if the input tensor is given, use it as a stream\n",
    "                            else, generate a placeholder\n",
    "        '''\n",
    "        # extract params\n",
    "        self.name = name\n",
    "        input_size, output_size = layersize\n",
    "        # get input tensor\n",
    "        self.input = input_tensor\n",
    "        if self.input is None:\n",
    "            self.input = tf.placeholder(dtype = tf.float32,\n",
    "                          shape = [input_size])\n",
    "        self.construct_encoder(input_size, output_size)\n",
    "        if is_training or is_evaluating:\n",
    "            self.construct_decoder(input_size, output_size)\n",
    "            self.construct_evaluator()\n",
    "\n",
    "    def construct_encoder(self, input_size, output_size):\n",
    "        with tf.variable_scope(self.name + \"encoder\",reuse=tf.AUTO_REUSE):\n",
    "            self.w = tf.get_variable(\n",
    "                        name = 'weight',\n",
    "                        shape=[input_size, output_size],\n",
    "                        dtype=tf.float32,\n",
    "                        initializer=tf.initializers.orthogonal,\n",
    "                        trainable=True,\n",
    "                    )\n",
    "            self.b = tf.get_variable(\n",
    "                        name = 'bias',\n",
    "                        shape=[1, output_size],\n",
    "                        dtype=tf.float32,\n",
    "                        initializer=tf.initializers.orthogonal,\n",
    "                        trainable=True,\n",
    "                    )\n",
    "            self.logits = tf.matmul(self.input, self.w) + self.b\n",
    "            self.output = tf.nn.relu(self.logits)\n",
    "            print(self.input)\n",
    "            print(self.output)\n",
    "    \n",
    "    def construct_decoder(self, input_size, output_size):\n",
    "        with tf.variable_scope(self.name + \"decoder\",reuse=tf.AUTO_REUSE):\n",
    "            self.decode_w = tf.get_variable(\n",
    "                            name = 'weight',\n",
    "                            shape=[output_size, input_size],\n",
    "                            dtype=tf.float32,\n",
    "                            initializer=tf.initializers.orthogonal,\n",
    "                            trainable=True,\n",
    "                        )\n",
    "            self.decode_b = tf.get_variable(\n",
    "                            name = 'bias',\n",
    "                            shape=[1, input_size],\n",
    "                            dtype=tf.float32,\n",
    "                            initializer=tf.initializers.orthogonal,\n",
    "                            trainable=True,\n",
    "                        )   \n",
    "            self.decode_logits = tf.matmul(self.output, self.decode_w) + self.decode_b\n",
    "            print(self.decode_logits)\n",
    "    def construct_evaluator(self):\n",
    "        self.cost = tf.reduce_mean(tf.squared_difference(self.input, self.decode_logits))\n",
    "        self.train_step = tf.train.AdamOptimizer().minimize(self.cost)\n",
    "        \n",
    "class StackedDAE:\n",
    "    def __init__(self, input_tensor, layer_sizes, is_training, is_evaluating):\n",
    "        self.DAELayers = []\n",
    "        prev_input = input_tensor\n",
    "        for i, (front, end) in enumerate(zip(layer_sizes[:-1],layer_sizes[1:])):\n",
    "            self.DAELayers.append(\n",
    "                DAELayer(\n",
    "                    layersize = (front, end), \n",
    "                    input_tensor = prev_input, \n",
    "                    is_training = is_training, \n",
    "                    is_evaluating = is_evaluating, \n",
    "                    name = 'DAE_Layer_{}'.format(i)\n",
    "                )\n",
    "            )\n",
    "            prev_input = self.DAELayers[-1].output\n",
    "        self.output = self.DAELayers[-1].output"
   ]
  },
  {
   "cell_type": "code",
   "execution_count": 6,
   "metadata": {},
   "outputs": [],
   "source": [
    "file = tf.placeholder(tf.float32,[None,1000])"
   ]
  },
  {
   "cell_type": "code",
   "execution_count": 7,
   "metadata": {},
   "outputs": [
    {
     "name": "stdout",
     "output_type": "stream",
     "text": [
      "Tensor(\"Placeholder_1:0\", shape=(?, 1000), dtype=float32)\n",
      "Tensor(\"DAE_Layer_0encoder_1/Relu:0\", shape=(?, 800), dtype=float32)\n",
      "Tensor(\"DAE_Layer_0decoder_1/add:0\", shape=(?, 1000), dtype=float32)\n",
      "Tensor(\"DAE_Layer_0encoder_1/Relu:0\", shape=(?, 800), dtype=float32)\n",
      "Tensor(\"DAE_Layer_1encoder/Relu:0\", shape=(?, 600), dtype=float32)\n",
      "Tensor(\"DAE_Layer_1decoder/add:0\", shape=(?, 800), dtype=float32)\n",
      "Tensor(\"DAE_Layer_1encoder/Relu:0\", shape=(?, 600), dtype=float32)\n",
      "Tensor(\"DAE_Layer_2encoder/Relu:0\", shape=(?, 300), dtype=float32)\n",
      "Tensor(\"DAE_Layer_2decoder/add:0\", shape=(?, 600), dtype=float32)\n"
     ]
    }
   ],
   "source": [
    "myops = StackedDAE(file,[1000,800,600,300],True,True)"
   ]
  },
  {
   "cell_type": "code",
   "execution_count": 10,
   "metadata": {},
   "outputs": [],
   "source": [
    "w= tf.get_variable(\n",
    "    name = 'weight',\n",
    "    shape=[1000, 800],\n",
    "    dtype=tf.float32,\n",
    "    initializer=tf.initializers.orthogonal,\n",
    "    trainable=True,\n",
    ")"
   ]
  },
  {
   "cell_type": "code",
   "execution_count": 18,
   "metadata": {},
   "outputs": [],
   "source": [
    "b= tf.get_variable(\n",
    "    name = 'biass',\n",
    "    shape=[1,800],\n",
    "    dtype=tf.float32,\n",
    "    initializer=tf.initializers.orthogonal,\n",
    "    trainable=True,\n",
    ")"
   ]
  },
  {
   "cell_type": "code",
   "execution_count": 14,
   "metadata": {},
   "outputs": [],
   "source": [
    "x = tf.placeholder(tf.float32,[None,1000])\n",
    "# W = tf.Variable(tf.zeros(shape = [1000,800]))\n",
    "# b = tf.Variable(tf.zeros(shape = [800]))\n"
   ]
  },
  {
   "cell_type": "code",
   "execution_count": 19,
   "metadata": {},
   "outputs": [
    {
     "data": {
      "text/plain": [
       "<tf.Tensor 'add_1:0' shape=(?, 800) dtype=float32>"
      ]
     },
     "execution_count": 19,
     "metadata": {},
     "output_type": "execute_result"
    }
   ],
   "source": [
    "tf.matmul(x,w)+b"
   ]
  },
  {
   "cell_type": "code",
   "execution_count": null,
   "metadata": {
    "collapsed": true
   },
   "outputs": [],
   "source": []
  }
 ],
 "metadata": {
  "kernelspec": {
   "display_name": "Machine Learning",
   "language": "python",
   "name": "ml"
  },
  "language_info": {
   "codemirror_mode": {
    "name": "ipython",
    "version": 3
   },
   "file_extension": ".py",
   "mimetype": "text/x-python",
   "name": "python",
   "nbconvert_exporter": "python",
   "pygments_lexer": "ipython3",
   "version": "3.6.3"
  }
 },
 "nbformat": 4,
 "nbformat_minor": 2
}
