{
 "cells": [
  {
   "cell_type": "markdown",
   "metadata": {},
   "source": [
    "### unbalancing solution"
   ]
  },
  {
   "cell_type": "markdown",
   "metadata": {},
   "source": [
    "### gini coefficient"
   ]
  },
  {
   "cell_type": "markdown",
   "metadata": {},
   "source": [
    "https://www.kaggle.com/batzner/gini-coefficient-an-intuitive-explanation"
   ]
  },
  {
   "cell_type": "markdown",
   "metadata": {},
   "source": [
    "### preprocessing"
   ]
  },
  {
   "cell_type": "markdown",
   "metadata": {},
   "source": [
    "filling"
   ]
  },
  {
   "cell_type": "markdown",
   "metadata": {},
   "source": [
    "dummy"
   ]
  },
  {
   "cell_type": "markdown",
   "metadata": {},
   "source": [
    "normalization"
   ]
  },
  {
   "cell_type": "markdown",
   "metadata": {},
   "source": [
    "difficulty on preprocessing after cv"
   ]
  },
  {
   "cell_type": "markdown",
   "metadata": {},
   "source": [
    " "
   ]
  },
  {
   "cell_type": "code",
   "execution_count": 1,
   "metadata": {},
   "outputs": [
    {
     "name": "stderr",
     "output_type": "stream",
     "text": [
      "/usr/local/lib/python2.7/dist-packages/sklearn/cross_validation.py:41: DeprecationWarning: This module was deprecated in version 0.18 in favor of the model_selection module into which all the refactored classes and functions are moved. Also note that the interface of the new CV iterators are different from that of this module. This module will be removed in 0.20.\n",
      "  \"This module will be removed in 0.20.\", DeprecationWarning)\n"
     ]
    }
   ],
   "source": [
    "import warnings \n",
    "warnings.filterwarnings(\"ignore\")\n",
    "import pandas as pd\n",
    "import numpy as np\n",
    "import xgboost as xgb\n",
    "\n",
    "from preprocessing import dataset\n",
    "from sklearn import metrics"
   ]
  },
  {
   "cell_type": "code",
   "execution_count": 2,
   "metadata": {
    "collapsed": true
   },
   "outputs": [],
   "source": [
    "def loadcv(path):\n",
    "    cv = []\n",
    "    i = 0\n",
    "    while True:\n",
    "        try:\n",
    "            train = dataset(pd.read_csv(path+\"train_X_\"+str(i)+\".csv\"),\n",
    "                    pd.read_csv(path+\"train_y_\"+str(i)+\".csv\"))\n",
    "            valid = dataset(pd.read_csv(path+\"valid_X_\"+str(i)+\".csv\"),\n",
    "                    pd.read_csv(path+\"valid_y_\"+str(i)+\".csv\"))\n",
    "            cv.append([train, valid])\n",
    "            print(\"cross validation set %d loaded\"%i)\n",
    "            i += 1\n",
    "        except:\n",
    "            return cv"
   ]
  },
  {
   "cell_type": "code",
   "execution_count": 3,
   "metadata": {},
   "outputs": [
    {
     "name": "stdout",
     "output_type": "stream",
     "text": [
      "cross validation set 0 loaded\n",
      "cross validation set 1 loaded\n",
      "cross validation set 2 loaded\n",
      "cross validation set 3 loaded\n",
      "cross validation set 4 loaded\n"
     ]
    }
   ],
   "source": [
    "path = \"./cv/cv_\"\n",
    "cv = loadcv(path)"
   ]
  },
  {
   "cell_type": "code",
   "execution_count": 4,
   "metadata": {
    "collapsed": true
   },
   "outputs": [],
   "source": [
    "test = dataset(pd.read_csv(path+\"test_X\"+\".csv\"),\n",
    "               pd.read_csv(path+\"test_y\"+\".csv\"))"
   ]
  },
  {
   "cell_type": "code",
   "execution_count": 5,
   "metadata": {
    "collapsed": true
   },
   "outputs": [],
   "source": [
    "def gini(y, pred):\n",
    "    fpr, tpr, thr = metrics.roc_curve(y, pred, pos_label=1)\n",
    "    g = 2 * metrics.auc(fpr, tpr) -1\n",
    "    return g\n",
    "\n",
    "def gini_xgb(pred, y):\n",
    "    y = y.get_label()\n",
    "    return 'gini', gini(y, pred)"
   ]
  },
  {
   "cell_type": "code",
   "execution_count": 7,
   "metadata": {},
   "outputs": [
    {
     "name": "stdout",
     "output_type": "stream",
     "text": [
      "training CV round 0\n",
      "[0]\ttrain-gini:0.200667\tvalid-gini:0.187099\n",
      "Multiple eval metrics have been passed: 'valid-gini' will be used for early stopping.\n",
      "\n",
      "Will train until valid-gini hasn't improved in 200 rounds.\n",
      "[50]\ttrain-gini:0.243489\tvalid-gini:0.224317\n",
      "[100]\ttrain-gini:0.249059\tvalid-gini:0.229365\n",
      "[150]\ttrain-gini:0.261369\tvalid-gini:0.240079\n",
      "[200]\ttrain-gini:0.277807\tvalid-gini:0.251068\n",
      "[250]\ttrain-gini:0.290025\tvalid-gini:0.26018\n",
      "[300]\ttrain-gini:0.298404\tvalid-gini:0.265779\n",
      "[350]\ttrain-gini:0.305718\tvalid-gini:0.269906\n",
      "[400]\ttrain-gini:0.311843\tvalid-gini:0.272175\n",
      "[450]\ttrain-gini:0.318135\tvalid-gini:0.274115\n",
      "[500]\ttrain-gini:0.323605\tvalid-gini:0.275487\n",
      "[550]\ttrain-gini:0.329003\tvalid-gini:0.276901\n",
      "[600]\ttrain-gini:0.333901\tvalid-gini:0.277651\n",
      "[650]\ttrain-gini:0.338569\tvalid-gini:0.278006\n",
      "[700]\ttrain-gini:0.342955\tvalid-gini:0.278381\n",
      "[750]\ttrain-gini:0.347134\tvalid-gini:0.278777\n",
      "[800]\ttrain-gini:0.351026\tvalid-gini:0.279093\n",
      "[850]\ttrain-gini:0.355711\tvalid-gini:0.279084\n",
      "[900]\ttrain-gini:0.359493\tvalid-gini:0.279139\n",
      "[950]\ttrain-gini:0.363341\tvalid-gini:0.279281\n",
      "[1000]\ttrain-gini:0.366701\tvalid-gini:0.279248\n",
      "[1050]\ttrain-gini:0.37083\tvalid-gini:0.279379\n",
      "[1100]\ttrain-gini:0.374659\tvalid-gini:0.279498\n",
      "[1150]\ttrain-gini:0.37816\tvalid-gini:0.27961\n",
      "[1200]\ttrain-gini:0.381702\tvalid-gini:0.279873\n",
      "[1250]\ttrain-gini:0.384823\tvalid-gini:0.279655\n",
      "[1300]\ttrain-gini:0.387969\tvalid-gini:0.279913\n",
      "[1350]\ttrain-gini:0.391322\tvalid-gini:0.280006\n",
      "[1400]\ttrain-gini:0.39433\tvalid-gini:0.280031\n",
      "[1450]\ttrain-gini:0.39722\tvalid-gini:0.279877\n",
      "[1500]\ttrain-gini:0.400666\tvalid-gini:0.279908\n",
      "Stopping. Best iteration:\n",
      "[1330]\ttrain-gini:0.39012\tvalid-gini:0.280151\n",
      "\n",
      "training CV round 1\n",
      "[0]\ttrain-gini:0.196857\tvalid-gini:0.19354\n",
      "Multiple eval metrics have been passed: 'valid-gini' will be used for early stopping.\n",
      "\n",
      "Will train until valid-gini hasn't improved in 200 rounds.\n",
      "[50]\ttrain-gini:0.24383\tvalid-gini:0.237923\n",
      "[100]\ttrain-gini:0.249366\tvalid-gini:0.240299\n",
      "[150]\ttrain-gini:0.263638\tvalid-gini:0.249255\n",
      "[200]\ttrain-gini:0.278307\tvalid-gini:0.257531\n",
      "[250]\ttrain-gini:0.290455\tvalid-gini:0.263826\n",
      "[300]\ttrain-gini:0.300164\tvalid-gini:0.268475\n",
      "[350]\ttrain-gini:0.307516\tvalid-gini:0.271326\n",
      "[400]\ttrain-gini:0.31402\tvalid-gini:0.273105\n",
      "[450]\ttrain-gini:0.319825\tvalid-gini:0.274287\n",
      "[500]\ttrain-gini:0.325032\tvalid-gini:0.275407\n",
      "[550]\ttrain-gini:0.32996\tvalid-gini:0.275776\n",
      "[600]\ttrain-gini:0.334545\tvalid-gini:0.276242\n",
      "[650]\ttrain-gini:0.339029\tvalid-gini:0.276475\n",
      "[700]\ttrain-gini:0.343308\tvalid-gini:0.276574\n",
      "[750]\ttrain-gini:0.347423\tvalid-gini:0.276696\n",
      "[800]\ttrain-gini:0.351398\tvalid-gini:0.277093\n",
      "[850]\ttrain-gini:0.355143\tvalid-gini:0.277198\n",
      "[900]\ttrain-gini:0.359075\tvalid-gini:0.277351\n",
      "[950]\ttrain-gini:0.362847\tvalid-gini:0.277304\n",
      "[1000]\ttrain-gini:0.367011\tvalid-gini:0.277407\n",
      "[1050]\ttrain-gini:0.370558\tvalid-gini:0.277251\n",
      "[1100]\ttrain-gini:0.374116\tvalid-gini:0.277209\n",
      "[1150]\ttrain-gini:0.377431\tvalid-gini:0.27696\n",
      "Stopping. Best iteration:\n",
      "[979]\ttrain-gini:0.365142\tvalid-gini:0.277499\n",
      "\n",
      "training CV round 2\n",
      "[0]\ttrain-gini:0.201549\tvalid-gini:0.190048\n",
      "Multiple eval metrics have been passed: 'valid-gini' will be used for early stopping.\n",
      "\n",
      "Will train until valid-gini hasn't improved in 200 rounds.\n",
      "[50]\ttrain-gini:0.241636\tvalid-gini:0.234415\n",
      "[100]\ttrain-gini:0.248129\tvalid-gini:0.239989\n",
      "[150]\ttrain-gini:0.260457\tvalid-gini:0.249971\n",
      "[200]\ttrain-gini:0.275648\tvalid-gini:0.261926\n",
      "[250]\ttrain-gini:0.28724\tvalid-gini:0.270101\n",
      "[300]\ttrain-gini:0.296116\tvalid-gini:0.275191\n",
      "[350]\ttrain-gini:0.30358\tvalid-gini:0.279629\n",
      "[400]\ttrain-gini:0.309818\tvalid-gini:0.282052\n",
      "[450]\ttrain-gini:0.315985\tvalid-gini:0.28372\n",
      "[500]\ttrain-gini:0.321767\tvalid-gini:0.285125\n",
      "[550]\ttrain-gini:0.327134\tvalid-gini:0.28583\n",
      "[600]\ttrain-gini:0.331883\tvalid-gini:0.286305\n",
      "[650]\ttrain-gini:0.336663\tvalid-gini:0.286483\n",
      "[700]\ttrain-gini:0.341055\tvalid-gini:0.286614\n",
      "[750]\ttrain-gini:0.345278\tvalid-gini:0.286661\n",
      "[800]\ttrain-gini:0.349579\tvalid-gini:0.286874\n",
      "[850]\ttrain-gini:0.353552\tvalid-gini:0.28688\n",
      "[900]\ttrain-gini:0.35736\tvalid-gini:0.286824\n",
      "[950]\ttrain-gini:0.36135\tvalid-gini:0.286506\n",
      "[1000]\ttrain-gini:0.365067\tvalid-gini:0.286353\n",
      "[1050]\ttrain-gini:0.368495\tvalid-gini:0.286452\n",
      "Stopping. Best iteration:\n",
      "[879]\ttrain-gini:0.355613\tvalid-gini:0.287045\n",
      "\n",
      "training CV round 3\n",
      "[0]\ttrain-gini:0.201657\tvalid-gini:0.211613\n",
      "Multiple eval metrics have been passed: 'valid-gini' will be used for early stopping.\n",
      "\n",
      "Will train until valid-gini hasn't improved in 200 rounds.\n",
      "[50]\ttrain-gini:0.241966\tvalid-gini:0.242034\n",
      "[100]\ttrain-gini:0.2488\tvalid-gini:0.246357\n",
      "[150]\ttrain-gini:0.259864\tvalid-gini:0.255919\n",
      "[200]\ttrain-gini:0.275187\tvalid-gini:0.267852\n",
      "[250]\ttrain-gini:0.28627\tvalid-gini:0.276188\n",
      "[300]\ttrain-gini:0.295615\tvalid-gini:0.282628\n",
      "[350]\ttrain-gini:0.303266\tvalid-gini:0.286136\n",
      "[400]\ttrain-gini:0.309098\tvalid-gini:0.288111\n",
      "[450]\ttrain-gini:0.315475\tvalid-gini:0.289948\n",
      "[500]\ttrain-gini:0.321104\tvalid-gini:0.290526\n",
      "[550]\ttrain-gini:0.326128\tvalid-gini:0.290658\n",
      "[600]\ttrain-gini:0.330977\tvalid-gini:0.290757\n",
      "[650]\ttrain-gini:0.33577\tvalid-gini:0.291125\n",
      "[700]\ttrain-gini:0.340175\tvalid-gini:0.291329\n",
      "[750]\ttrain-gini:0.344803\tvalid-gini:0.291295\n",
      "[800]\ttrain-gini:0.34875\tvalid-gini:0.291437\n",
      "[850]\ttrain-gini:0.353084\tvalid-gini:0.291696\n",
      "[900]\ttrain-gini:0.356825\tvalid-gini:0.291649\n",
      "[950]\ttrain-gini:0.36105\tvalid-gini:0.291776\n",
      "[1000]\ttrain-gini:0.364661\tvalid-gini:0.291627\n",
      "[1050]\ttrain-gini:0.368392\tvalid-gini:0.291579\n",
      "[1100]\ttrain-gini:0.371752\tvalid-gini:0.291427\n",
      "[1150]\ttrain-gini:0.374985\tvalid-gini:0.291618\n",
      "Stopping. Best iteration:\n",
      "[964]\ttrain-gini:0.362017\tvalid-gini:0.291846\n",
      "\n",
      "training CV round 4\n",
      "[0]\ttrain-gini:0.203863\tvalid-gini:0.184688\n",
      "Multiple eval metrics have been passed: 'valid-gini' will be used for early stopping.\n",
      "\n",
      "Will train until valid-gini hasn't improved in 200 rounds.\n",
      "[50]\ttrain-gini:0.243796\tvalid-gini:0.225216\n",
      "[100]\ttrain-gini:0.250498\tvalid-gini:0.231699\n",
      "[150]\ttrain-gini:0.263609\tvalid-gini:0.242449\n",
      "[200]\ttrain-gini:0.277767\tvalid-gini:0.252645\n",
      "[250]\ttrain-gini:0.289034\tvalid-gini:0.26017\n",
      "[300]\ttrain-gini:0.298327\tvalid-gini:0.26635\n",
      "[350]\ttrain-gini:0.304953\tvalid-gini:0.270415\n",
      "[400]\ttrain-gini:0.310754\tvalid-gini:0.272841\n",
      "[450]\ttrain-gini:0.316553\tvalid-gini:0.275299\n",
      "[500]\ttrain-gini:0.321708\tvalid-gini:0.276864\n",
      "[550]\ttrain-gini:0.326417\tvalid-gini:0.278375\n",
      "[600]\ttrain-gini:0.330775\tvalid-gini:0.279652\n",
      "[650]\ttrain-gini:0.335142\tvalid-gini:0.280351\n",
      "[700]\ttrain-gini:0.339356\tvalid-gini:0.280978\n",
      "[750]\ttrain-gini:0.34349\tvalid-gini:0.281365\n",
      "[800]\ttrain-gini:0.347936\tvalid-gini:0.281892\n",
      "[850]\ttrain-gini:0.351685\tvalid-gini:0.282065\n",
      "[900]\ttrain-gini:0.355517\tvalid-gini:0.282222\n",
      "[950]\ttrain-gini:0.359227\tvalid-gini:0.282563\n",
      "[1000]\ttrain-gini:0.363177\tvalid-gini:0.282583\n",
      "[1050]\ttrain-gini:0.36677\tvalid-gini:0.282447\n",
      "[1100]\ttrain-gini:0.370739\tvalid-gini:0.282394\n",
      "[1150]\ttrain-gini:0.373994\tvalid-gini:0.282254\n",
      "[1200]\ttrain-gini:0.377365\tvalid-gini:0.282046\n",
      "Stopping. Best iteration:\n",
      "[1021]\ttrain-gini:0.364857\tvalid-gini:0.282669\n",
      "\n"
     ]
    }
   ],
   "source": [
    "params = {'eta': 0.02, \n",
    "          'max_depth': 4, \n",
    "          'subsample': 0.9, \n",
    "          'colsample_bytree': 0.9, \n",
    "          'objective': 'binary:logistic', \n",
    "          'eval_metric': 'auc', \n",
    "          'seed': 99, \n",
    "          'silent': True\n",
    "         }\n",
    "result = []\n",
    "cvresult = []\n",
    "for i,data in enumerate(cv):\n",
    "    print(\"training CV round %d\"%i)\n",
    "    watchlist = [(xgb.DMatrix(data[0].X, data[0].y), 'train'), (xgb.DMatrix(data[1].X, data[1].y), 'valid')]\n",
    "    model = xgb.train(params, xgb.DMatrix(data[0].X, data[0].y), 5000,  watchlist, feval=gini_xgb, maximize=True, verbose_eval=50, early_stopping_rounds=200)\n",
    "    cvresult.append(model.predict(xgb.DMatrix(data[1].X), ntree_limit=model.best_ntree_limit+45))\n",
    "    result.append  (model.predict(xgb.DMatrix(test.X), ntree_limit=model.best_ntree_limit+45))"
   ]
  },
  {
   "cell_type": "code",
   "execution_count": 20,
   "metadata": {},
   "outputs": [],
   "source": [
    "stage1result = pd.DataFrame()"
   ]
  },
  {
   "cell_type": "code",
   "execution_count": 21,
   "metadata": {},
   "outputs": [],
   "source": [
    "stage1result['xgboost'] = [i for one_validation in cvresult for i in one_validation]"
   ]
  },
  {
   "cell_type": "code",
   "execution_count": 22,
   "metadata": {},
   "outputs": [],
   "source": [
    "stage1result.to_csv('./predictions/meta_train/xgboost.csv', index=False, float_format='%.5f')"
   ]
  },
  {
   "cell_type": "code",
   "execution_count": 23,
   "metadata": {
    "collapsed": true
   },
   "outputs": [],
   "source": [
    "test.y['target'] = np.mean(result,axis = 0)"
   ]
  },
  {
   "cell_type": "code",
   "execution_count": 24,
   "metadata": {
    "collapsed": true
   },
   "outputs": [],
   "source": [
    "test.y.to_csv('./predictions/meta_test//xgboost.csv', index=False, float_format='%.5f')"
   ]
  },
  {
   "cell_type": "code",
   "execution_count": 39,
   "metadata": {},
   "outputs": [],
   "source": [
    "cvlabel = []\n",
    "for i,data in enumerate(cv):\n",
    "    cvlabel.append(data[1].y['target'].as_matrix())"
   ]
  },
  {
   "cell_type": "code",
   "execution_count": 41,
   "metadata": {
    "scrolled": true
   },
   "outputs": [],
   "source": [
    "stage1label = pd.DataFrame()\n",
    "stage1label['target'] = [i for one_validation in cvlabel for i in one_validation]"
   ]
  },
  {
   "cell_type": "code",
   "execution_count": 45,
   "metadata": {},
   "outputs": [
    {
     "data": {
      "text/plain": [
       "array([[0],\n",
       "       [0],\n",
       "       [0],\n",
       "       ..., \n",
       "       [0],\n",
       "       [0],\n",
       "       [0]])"
      ]
     },
     "execution_count": 45,
     "metadata": {},
     "output_type": "execute_result"
    }
   ],
   "source": [
    "stage1label.as_matrix()"
   ]
  },
  {
   "cell_type": "code",
   "execution_count": 47,
   "metadata": {
    "scrolled": true
   },
   "outputs": [
    {
     "data": {
      "text/plain": [
       "0.28346273880991424"
      ]
     },
     "execution_count": 47,
     "metadata": {},
     "output_type": "execute_result"
    }
   ],
   "source": [
    "gini(stage1label.as_matrix(), stage1result.as_matrix())"
   ]
  },
  {
   "cell_type": "markdown",
   "metadata": {},
   "source": [
    "### Dependencies"
   ]
  },
  {
   "cell_type": "code",
   "execution_count": 4,
   "metadata": {
    "collapsed": true
   },
   "outputs": [],
   "source": [
    "import warnings \n",
    "warnings.filterwarnings(\"ignore\")\n",
    "import pandas as pd\n",
    "import numpy  as np\n",
    "# from lightgbm import LGBMClassifier\n",
    "from sklearn.model_selection import StratifiedKFold\n",
    "# import xgboost as xgb\n",
    "from multiprocessing import cpu_count"
   ]
  },
  {
   "cell_type": "code",
   "execution_count": 5,
   "metadata": {
    "collapsed": true
   },
   "outputs": [],
   "source": [
    "from collections import namedtuple\n",
    "dataset = namedtuple(\"dataset\",\"X y\")"
   ]
  },
  {
   "cell_type": "markdown",
   "metadata": {},
   "source": [
    "### Loading Raw Data"
   ]
  },
  {
   "cell_type": "code",
   "execution_count": 27,
   "metadata": {
    "collapsed": true
   },
   "outputs": [],
   "source": [
    "train = pd.read_csv(\"./original/train.csv\")\n",
    "test  = pd.read_csv(\"./original/test.csv\")"
   ]
  },
  {
   "cell_type": "code",
   "execution_count": 28,
   "metadata": {
    "collapsed": true
   },
   "outputs": [],
   "source": [
    "class dataset:\n",
    "    def __init__(self, data = None, label = None):\n",
    "        self.X = data\n",
    "        self.y = label"
   ]
  },
  {
   "cell_type": "markdown",
   "metadata": {},
   "source": [
    "### Preprocessing"
   ]
  },
  {
   "cell_type": "code",
   "execution_count": 29,
   "metadata": {
    "collapsed": true
   },
   "outputs": [],
   "source": [
    "train = dataset(train.drop(\"id\",1).drop(\"target\",1), train.target)\n",
    "test  = dataset(test.drop(\"id\",1), test.id)"
   ]
  },
  {
   "cell_type": "code",
   "execution_count": 30,
   "metadata": {
    "collapsed": true
   },
   "outputs": [],
   "source": [
    "train.X = train.X.replace(-1, np.nan)\n",
    "test.X  = test .X.replace(-1, np.nan)"
   ]
  },
  {
   "cell_type": "markdown",
   "metadata": {},
   "source": [
    "##### fillNA"
   ]
  },
  {
   "cell_type": "code",
   "execution_count": 31,
   "metadata": {
    "collapsed": true
   },
   "outputs": [],
   "source": [
    "train.X = train.X.fillna(-1)\n",
    "test.X = test.X.fillna(-1)"
   ]
  },
  {
   "cell_type": "markdown",
   "metadata": {},
   "source": [
    "##### Dummy Catagories"
   ]
  },
  {
   "cell_type": "code",
   "execution_count": 26,
   "metadata": {
    "collapsed": true
   },
   "outputs": [],
   "source": [
    "#Although it is better to do everything after splitting train-validation\n",
    "#we extract dummylist first in order not to have different dimension for different sets\n",
    "CATAGORY_THRES = 10\n",
    "def dummylist(df):\n",
    "    assert(isinstance(df,pd.core.frame.DataFrame))\n",
    "    dummylist = []\n",
    "    for columnname in list(df.columns):\n",
    "        if columnname.endswith(\"cat\") and len(list(df[columnname].unique())) < CATAGORY_THRES:\n",
    "            dummylist.append(columnname)\n",
    "    return dummylist\n",
    "    return df    \n",
    "def dummy(df, dummylist):\n",
    "    assert(isinstance(df,pd.core.frame.DataFrame))\n",
    "    for columnname in dummylist:\n",
    "        newcolumn = pd.get_dummies(df[columnname],prefix = \"1hot_\"+columnname[:-4])\n",
    "        df = pd.concat([df, newcolumn],axis = 1)\n",
    "    for columnname in dummylist:\n",
    "        df = df.drop(columnname, axis = 1)\n",
    "    return df"
   ]
  },
  {
   "cell_type": "code",
   "execution_count": 27,
   "metadata": {
    "collapsed": true
   },
   "outputs": [],
   "source": [
    "mylist = dummylist(train.X)"
   ]
  },
  {
   "cell_type": "code",
   "execution_count": 28,
   "metadata": {
    "collapsed": true
   },
   "outputs": [],
   "source": [
    "train.X = dummy(train.X, mylist)\n",
    "test.X  = dummy(test.X,  mylist)"
   ]
  },
  {
   "cell_type": "code",
   "execution_count": 29,
   "metadata": {
    "collapsed": true
   },
   "outputs": [],
   "source": [
    "KFOLDS = 5\n",
    "folds = list(StratifiedKFold(n_splits=KFOLDS, shuffle=True, random_state=2016).split(train.X, train.y))"
   ]
  },
  {
   "cell_type": "code",
   "execution_count": null,
   "metadata": {
    "collapsed": true
   },
   "outputs": [],
   "source": []
  },
  {
   "cell_type": "code",
   "execution_count": 32,
   "metadata": {
    "collapsed": true
   },
   "outputs": [],
   "source": [
    "tmp = pd.DataFrame.copy(train.X.head(10))"
   ]
  },
  {
   "cell_type": "code",
   "execution_count": 33,
   "metadata": {
    "collapsed": true
   },
   "outputs": [],
   "source": [
    "tmp['ps_ind_01'][0] = 3"
   ]
  },
  {
   "cell_type": "code",
   "execution_count": 34,
   "metadata": {},
   "outputs": [
    {
     "data": {
      "text/html": [
       "<div>\n",
       "<style>\n",
       "    .dataframe thead tr:only-child th {\n",
       "        text-align: right;\n",
       "    }\n",
       "\n",
       "    .dataframe thead th {\n",
       "        text-align: left;\n",
       "    }\n",
       "\n",
       "    .dataframe tbody tr th {\n",
       "        vertical-align: top;\n",
       "    }\n",
       "</style>\n",
       "<table border=\"1\" class=\"dataframe\">\n",
       "  <thead>\n",
       "    <tr style=\"text-align: right;\">\n",
       "      <th></th>\n",
       "      <th>ps_ind_01</th>\n",
       "      <th>ps_ind_02_cat</th>\n",
       "      <th>ps_ind_03</th>\n",
       "      <th>ps_ind_04_cat</th>\n",
       "      <th>ps_ind_05_cat</th>\n",
       "      <th>ps_ind_06_bin</th>\n",
       "      <th>ps_ind_07_bin</th>\n",
       "      <th>ps_ind_08_bin</th>\n",
       "      <th>ps_ind_09_bin</th>\n",
       "      <th>ps_ind_10_bin</th>\n",
       "      <th>...</th>\n",
       "      <th>ps_calc_11</th>\n",
       "      <th>ps_calc_12</th>\n",
       "      <th>ps_calc_13</th>\n",
       "      <th>ps_calc_14</th>\n",
       "      <th>ps_calc_15_bin</th>\n",
       "      <th>ps_calc_16_bin</th>\n",
       "      <th>ps_calc_17_bin</th>\n",
       "      <th>ps_calc_18_bin</th>\n",
       "      <th>ps_calc_19_bin</th>\n",
       "      <th>ps_calc_20_bin</th>\n",
       "    </tr>\n",
       "  </thead>\n",
       "  <tbody>\n",
       "    <tr>\n",
       "      <th>0</th>\n",
       "      <td>2</td>\n",
       "      <td>2.0</td>\n",
       "      <td>5</td>\n",
       "      <td>1.0</td>\n",
       "      <td>0.0</td>\n",
       "      <td>0</td>\n",
       "      <td>1</td>\n",
       "      <td>0</td>\n",
       "      <td>0</td>\n",
       "      <td>0</td>\n",
       "      <td>...</td>\n",
       "      <td>9</td>\n",
       "      <td>1</td>\n",
       "      <td>5</td>\n",
       "      <td>8</td>\n",
       "      <td>0</td>\n",
       "      <td>1</td>\n",
       "      <td>1</td>\n",
       "      <td>0</td>\n",
       "      <td>0</td>\n",
       "      <td>1</td>\n",
       "    </tr>\n",
       "    <tr>\n",
       "      <th>1</th>\n",
       "      <td>1</td>\n",
       "      <td>1.0</td>\n",
       "      <td>7</td>\n",
       "      <td>0.0</td>\n",
       "      <td>0.0</td>\n",
       "      <td>0</td>\n",
       "      <td>0</td>\n",
       "      <td>1</td>\n",
       "      <td>0</td>\n",
       "      <td>0</td>\n",
       "      <td>...</td>\n",
       "      <td>3</td>\n",
       "      <td>1</td>\n",
       "      <td>1</td>\n",
       "      <td>9</td>\n",
       "      <td>0</td>\n",
       "      <td>1</td>\n",
       "      <td>1</td>\n",
       "      <td>0</td>\n",
       "      <td>1</td>\n",
       "      <td>0</td>\n",
       "    </tr>\n",
       "    <tr>\n",
       "      <th>2</th>\n",
       "      <td>5</td>\n",
       "      <td>4.0</td>\n",
       "      <td>9</td>\n",
       "      <td>1.0</td>\n",
       "      <td>0.0</td>\n",
       "      <td>0</td>\n",
       "      <td>0</td>\n",
       "      <td>1</td>\n",
       "      <td>0</td>\n",
       "      <td>0</td>\n",
       "      <td>...</td>\n",
       "      <td>4</td>\n",
       "      <td>2</td>\n",
       "      <td>7</td>\n",
       "      <td>7</td>\n",
       "      <td>0</td>\n",
       "      <td>1</td>\n",
       "      <td>1</td>\n",
       "      <td>0</td>\n",
       "      <td>1</td>\n",
       "      <td>0</td>\n",
       "    </tr>\n",
       "    <tr>\n",
       "      <th>3</th>\n",
       "      <td>0</td>\n",
       "      <td>1.0</td>\n",
       "      <td>2</td>\n",
       "      <td>0.0</td>\n",
       "      <td>0.0</td>\n",
       "      <td>1</td>\n",
       "      <td>0</td>\n",
       "      <td>0</td>\n",
       "      <td>0</td>\n",
       "      <td>0</td>\n",
       "      <td>...</td>\n",
       "      <td>2</td>\n",
       "      <td>2</td>\n",
       "      <td>4</td>\n",
       "      <td>9</td>\n",
       "      <td>0</td>\n",
       "      <td>0</td>\n",
       "      <td>0</td>\n",
       "      <td>0</td>\n",
       "      <td>0</td>\n",
       "      <td>0</td>\n",
       "    </tr>\n",
       "    <tr>\n",
       "      <th>4</th>\n",
       "      <td>0</td>\n",
       "      <td>2.0</td>\n",
       "      <td>0</td>\n",
       "      <td>1.0</td>\n",
       "      <td>0.0</td>\n",
       "      <td>1</td>\n",
       "      <td>0</td>\n",
       "      <td>0</td>\n",
       "      <td>0</td>\n",
       "      <td>0</td>\n",
       "      <td>...</td>\n",
       "      <td>3</td>\n",
       "      <td>1</td>\n",
       "      <td>1</td>\n",
       "      <td>3</td>\n",
       "      <td>0</td>\n",
       "      <td>0</td>\n",
       "      <td>0</td>\n",
       "      <td>1</td>\n",
       "      <td>1</td>\n",
       "      <td>0</td>\n",
       "    </tr>\n",
       "  </tbody>\n",
       "</table>\n",
       "<p>5 rows × 57 columns</p>\n",
       "</div>"
      ],
      "text/plain": [
       "   ps_ind_01  ps_ind_02_cat  ps_ind_03  ps_ind_04_cat  ps_ind_05_cat  \\\n",
       "0          2            2.0          5            1.0            0.0   \n",
       "1          1            1.0          7            0.0            0.0   \n",
       "2          5            4.0          9            1.0            0.0   \n",
       "3          0            1.0          2            0.0            0.0   \n",
       "4          0            2.0          0            1.0            0.0   \n",
       "\n",
       "   ps_ind_06_bin  ps_ind_07_bin  ps_ind_08_bin  ps_ind_09_bin  ps_ind_10_bin  \\\n",
       "0              0              1              0              0              0   \n",
       "1              0              0              1              0              0   \n",
       "2              0              0              1              0              0   \n",
       "3              1              0              0              0              0   \n",
       "4              1              0              0              0              0   \n",
       "\n",
       "        ...        ps_calc_11  ps_calc_12  ps_calc_13  ps_calc_14  \\\n",
       "0       ...                 9           1           5           8   \n",
       "1       ...                 3           1           1           9   \n",
       "2       ...                 4           2           7           7   \n",
       "3       ...                 2           2           4           9   \n",
       "4       ...                 3           1           1           3   \n",
       "\n",
       "   ps_calc_15_bin  ps_calc_16_bin  ps_calc_17_bin  ps_calc_18_bin  \\\n",
       "0               0               1               1               0   \n",
       "1               0               1               1               0   \n",
       "2               0               1               1               0   \n",
       "3               0               0               0               0   \n",
       "4               0               0               0               1   \n",
       "\n",
       "   ps_calc_19_bin  ps_calc_20_bin  \n",
       "0               0               1  \n",
       "1               1               0  \n",
       "2               1               0  \n",
       "3               0               0  \n",
       "4               1               0  \n",
       "\n",
       "[5 rows x 57 columns]"
      ]
     },
     "execution_count": 34,
     "metadata": {},
     "output_type": "execute_result"
    }
   ],
   "source": [
    "train.X.head()"
   ]
  },
  {
   "cell_type": "code",
   "execution_count": 35,
   "metadata": {},
   "outputs": [
    {
     "data": {
      "text/html": [
       "<div>\n",
       "<style>\n",
       "    .dataframe thead tr:only-child th {\n",
       "        text-align: right;\n",
       "    }\n",
       "\n",
       "    .dataframe thead th {\n",
       "        text-align: left;\n",
       "    }\n",
       "\n",
       "    .dataframe tbody tr th {\n",
       "        vertical-align: top;\n",
       "    }\n",
       "</style>\n",
       "<table border=\"1\" class=\"dataframe\">\n",
       "  <thead>\n",
       "    <tr style=\"text-align: right;\">\n",
       "      <th></th>\n",
       "      <th>ps_ind_01</th>\n",
       "      <th>ps_ind_02_cat</th>\n",
       "      <th>ps_ind_03</th>\n",
       "      <th>ps_ind_04_cat</th>\n",
       "      <th>ps_ind_05_cat</th>\n",
       "      <th>ps_ind_06_bin</th>\n",
       "      <th>ps_ind_07_bin</th>\n",
       "      <th>ps_ind_08_bin</th>\n",
       "      <th>ps_ind_09_bin</th>\n",
       "      <th>ps_ind_10_bin</th>\n",
       "      <th>...</th>\n",
       "      <th>ps_calc_11</th>\n",
       "      <th>ps_calc_12</th>\n",
       "      <th>ps_calc_13</th>\n",
       "      <th>ps_calc_14</th>\n",
       "      <th>ps_calc_15_bin</th>\n",
       "      <th>ps_calc_16_bin</th>\n",
       "      <th>ps_calc_17_bin</th>\n",
       "      <th>ps_calc_18_bin</th>\n",
       "      <th>ps_calc_19_bin</th>\n",
       "      <th>ps_calc_20_bin</th>\n",
       "    </tr>\n",
       "  </thead>\n",
       "  <tbody>\n",
       "    <tr>\n",
       "      <th>0</th>\n",
       "      <td>3</td>\n",
       "      <td>2.0</td>\n",
       "      <td>5</td>\n",
       "      <td>1.0</td>\n",
       "      <td>0.0</td>\n",
       "      <td>0</td>\n",
       "      <td>1</td>\n",
       "      <td>0</td>\n",
       "      <td>0</td>\n",
       "      <td>0</td>\n",
       "      <td>...</td>\n",
       "      <td>9</td>\n",
       "      <td>1</td>\n",
       "      <td>5</td>\n",
       "      <td>8</td>\n",
       "      <td>0</td>\n",
       "      <td>1</td>\n",
       "      <td>1</td>\n",
       "      <td>0</td>\n",
       "      <td>0</td>\n",
       "      <td>1</td>\n",
       "    </tr>\n",
       "    <tr>\n",
       "      <th>1</th>\n",
       "      <td>1</td>\n",
       "      <td>1.0</td>\n",
       "      <td>7</td>\n",
       "      <td>0.0</td>\n",
       "      <td>0.0</td>\n",
       "      <td>0</td>\n",
       "      <td>0</td>\n",
       "      <td>1</td>\n",
       "      <td>0</td>\n",
       "      <td>0</td>\n",
       "      <td>...</td>\n",
       "      <td>3</td>\n",
       "      <td>1</td>\n",
       "      <td>1</td>\n",
       "      <td>9</td>\n",
       "      <td>0</td>\n",
       "      <td>1</td>\n",
       "      <td>1</td>\n",
       "      <td>0</td>\n",
       "      <td>1</td>\n",
       "      <td>0</td>\n",
       "    </tr>\n",
       "    <tr>\n",
       "      <th>2</th>\n",
       "      <td>5</td>\n",
       "      <td>4.0</td>\n",
       "      <td>9</td>\n",
       "      <td>1.0</td>\n",
       "      <td>0.0</td>\n",
       "      <td>0</td>\n",
       "      <td>0</td>\n",
       "      <td>1</td>\n",
       "      <td>0</td>\n",
       "      <td>0</td>\n",
       "      <td>...</td>\n",
       "      <td>4</td>\n",
       "      <td>2</td>\n",
       "      <td>7</td>\n",
       "      <td>7</td>\n",
       "      <td>0</td>\n",
       "      <td>1</td>\n",
       "      <td>1</td>\n",
       "      <td>0</td>\n",
       "      <td>1</td>\n",
       "      <td>0</td>\n",
       "    </tr>\n",
       "    <tr>\n",
       "      <th>3</th>\n",
       "      <td>0</td>\n",
       "      <td>1.0</td>\n",
       "      <td>2</td>\n",
       "      <td>0.0</td>\n",
       "      <td>0.0</td>\n",
       "      <td>1</td>\n",
       "      <td>0</td>\n",
       "      <td>0</td>\n",
       "      <td>0</td>\n",
       "      <td>0</td>\n",
       "      <td>...</td>\n",
       "      <td>2</td>\n",
       "      <td>2</td>\n",
       "      <td>4</td>\n",
       "      <td>9</td>\n",
       "      <td>0</td>\n",
       "      <td>0</td>\n",
       "      <td>0</td>\n",
       "      <td>0</td>\n",
       "      <td>0</td>\n",
       "      <td>0</td>\n",
       "    </tr>\n",
       "    <tr>\n",
       "      <th>4</th>\n",
       "      <td>0</td>\n",
       "      <td>2.0</td>\n",
       "      <td>0</td>\n",
       "      <td>1.0</td>\n",
       "      <td>0.0</td>\n",
       "      <td>1</td>\n",
       "      <td>0</td>\n",
       "      <td>0</td>\n",
       "      <td>0</td>\n",
       "      <td>0</td>\n",
       "      <td>...</td>\n",
       "      <td>3</td>\n",
       "      <td>1</td>\n",
       "      <td>1</td>\n",
       "      <td>3</td>\n",
       "      <td>0</td>\n",
       "      <td>0</td>\n",
       "      <td>0</td>\n",
       "      <td>1</td>\n",
       "      <td>1</td>\n",
       "      <td>0</td>\n",
       "    </tr>\n",
       "    <tr>\n",
       "      <th>5</th>\n",
       "      <td>5</td>\n",
       "      <td>1.0</td>\n",
       "      <td>4</td>\n",
       "      <td>0.0</td>\n",
       "      <td>0.0</td>\n",
       "      <td>0</td>\n",
       "      <td>0</td>\n",
       "      <td>0</td>\n",
       "      <td>1</td>\n",
       "      <td>0</td>\n",
       "      <td>...</td>\n",
       "      <td>4</td>\n",
       "      <td>2</td>\n",
       "      <td>0</td>\n",
       "      <td>9</td>\n",
       "      <td>0</td>\n",
       "      <td>1</td>\n",
       "      <td>0</td>\n",
       "      <td>1</td>\n",
       "      <td>1</td>\n",
       "      <td>1</td>\n",
       "    </tr>\n",
       "    <tr>\n",
       "      <th>6</th>\n",
       "      <td>2</td>\n",
       "      <td>1.0</td>\n",
       "      <td>3</td>\n",
       "      <td>1.0</td>\n",
       "      <td>0.0</td>\n",
       "      <td>0</td>\n",
       "      <td>1</td>\n",
       "      <td>0</td>\n",
       "      <td>0</td>\n",
       "      <td>0</td>\n",
       "      <td>...</td>\n",
       "      <td>3</td>\n",
       "      <td>0</td>\n",
       "      <td>0</td>\n",
       "      <td>10</td>\n",
       "      <td>0</td>\n",
       "      <td>1</td>\n",
       "      <td>0</td>\n",
       "      <td>0</td>\n",
       "      <td>1</td>\n",
       "      <td>0</td>\n",
       "    </tr>\n",
       "    <tr>\n",
       "      <th>7</th>\n",
       "      <td>5</td>\n",
       "      <td>1.0</td>\n",
       "      <td>4</td>\n",
       "      <td>0.0</td>\n",
       "      <td>0.0</td>\n",
       "      <td>1</td>\n",
       "      <td>0</td>\n",
       "      <td>0</td>\n",
       "      <td>0</td>\n",
       "      <td>0</td>\n",
       "      <td>...</td>\n",
       "      <td>7</td>\n",
       "      <td>1</td>\n",
       "      <td>3</td>\n",
       "      <td>6</td>\n",
       "      <td>1</td>\n",
       "      <td>0</td>\n",
       "      <td>1</td>\n",
       "      <td>0</td>\n",
       "      <td>1</td>\n",
       "      <td>0</td>\n",
       "    </tr>\n",
       "    <tr>\n",
       "      <th>8</th>\n",
       "      <td>5</td>\n",
       "      <td>1.0</td>\n",
       "      <td>3</td>\n",
       "      <td>1.0</td>\n",
       "      <td>0.0</td>\n",
       "      <td>0</td>\n",
       "      <td>0</td>\n",
       "      <td>1</td>\n",
       "      <td>0</td>\n",
       "      <td>0</td>\n",
       "      <td>...</td>\n",
       "      <td>4</td>\n",
       "      <td>2</td>\n",
       "      <td>1</td>\n",
       "      <td>5</td>\n",
       "      <td>0</td>\n",
       "      <td>1</td>\n",
       "      <td>0</td>\n",
       "      <td>0</td>\n",
       "      <td>0</td>\n",
       "      <td>1</td>\n",
       "    </tr>\n",
       "    <tr>\n",
       "      <th>9</th>\n",
       "      <td>1</td>\n",
       "      <td>1.0</td>\n",
       "      <td>2</td>\n",
       "      <td>0.0</td>\n",
       "      <td>0.0</td>\n",
       "      <td>0</td>\n",
       "      <td>1</td>\n",
       "      <td>0</td>\n",
       "      <td>0</td>\n",
       "      <td>0</td>\n",
       "      <td>...</td>\n",
       "      <td>3</td>\n",
       "      <td>5</td>\n",
       "      <td>0</td>\n",
       "      <td>6</td>\n",
       "      <td>0</td>\n",
       "      <td>1</td>\n",
       "      <td>0</td>\n",
       "      <td>0</td>\n",
       "      <td>1</td>\n",
       "      <td>0</td>\n",
       "    </tr>\n",
       "  </tbody>\n",
       "</table>\n",
       "<p>10 rows × 57 columns</p>\n",
       "</div>"
      ],
      "text/plain": [
       "   ps_ind_01  ps_ind_02_cat  ps_ind_03  ps_ind_04_cat  ps_ind_05_cat  \\\n",
       "0          3            2.0          5            1.0            0.0   \n",
       "1          1            1.0          7            0.0            0.0   \n",
       "2          5            4.0          9            1.0            0.0   \n",
       "3          0            1.0          2            0.0            0.0   \n",
       "4          0            2.0          0            1.0            0.0   \n",
       "5          5            1.0          4            0.0            0.0   \n",
       "6          2            1.0          3            1.0            0.0   \n",
       "7          5            1.0          4            0.0            0.0   \n",
       "8          5            1.0          3            1.0            0.0   \n",
       "9          1            1.0          2            0.0            0.0   \n",
       "\n",
       "   ps_ind_06_bin  ps_ind_07_bin  ps_ind_08_bin  ps_ind_09_bin  ps_ind_10_bin  \\\n",
       "0              0              1              0              0              0   \n",
       "1              0              0              1              0              0   \n",
       "2              0              0              1              0              0   \n",
       "3              1              0              0              0              0   \n",
       "4              1              0              0              0              0   \n",
       "5              0              0              0              1              0   \n",
       "6              0              1              0              0              0   \n",
       "7              1              0              0              0              0   \n",
       "8              0              0              1              0              0   \n",
       "9              0              1              0              0              0   \n",
       "\n",
       "        ...        ps_calc_11  ps_calc_12  ps_calc_13  ps_calc_14  \\\n",
       "0       ...                 9           1           5           8   \n",
       "1       ...                 3           1           1           9   \n",
       "2       ...                 4           2           7           7   \n",
       "3       ...                 2           2           4           9   \n",
       "4       ...                 3           1           1           3   \n",
       "5       ...                 4           2           0           9   \n",
       "6       ...                 3           0           0          10   \n",
       "7       ...                 7           1           3           6   \n",
       "8       ...                 4           2           1           5   \n",
       "9       ...                 3           5           0           6   \n",
       "\n",
       "   ps_calc_15_bin  ps_calc_16_bin  ps_calc_17_bin  ps_calc_18_bin  \\\n",
       "0               0               1               1               0   \n",
       "1               0               1               1               0   \n",
       "2               0               1               1               0   \n",
       "3               0               0               0               0   \n",
       "4               0               0               0               1   \n",
       "5               0               1               0               1   \n",
       "6               0               1               0               0   \n",
       "7               1               0               1               0   \n",
       "8               0               1               0               0   \n",
       "9               0               1               0               0   \n",
       "\n",
       "   ps_calc_19_bin  ps_calc_20_bin  \n",
       "0               0               1  \n",
       "1               1               0  \n",
       "2               1               0  \n",
       "3               0               0  \n",
       "4               1               0  \n",
       "5               1               1  \n",
       "6               1               0  \n",
       "7               1               0  \n",
       "8               0               1  \n",
       "9               1               0  \n",
       "\n",
       "[10 rows x 57 columns]"
      ]
     },
     "execution_count": 35,
     "metadata": {},
     "output_type": "execute_result"
    }
   ],
   "source": [
    "tmp"
   ]
  },
  {
   "cell_type": "code",
   "execution_count": 36,
   "metadata": {
    "collapsed": true
   },
   "outputs": [],
   "source": [
    "df = pd.DataFrame(np.arange(36).reshape(9,4),\n",
    "                      columns=['A', 'B', 'C', 'D'])"
   ]
  },
  {
   "cell_type": "code",
   "execution_count": 43,
   "metadata": {},
   "outputs": [
    {
     "name": "stdout",
     "output_type": "stream",
     "text": [
      "(476169, 86)\n"
     ]
    }
   ],
   "source": [
    "train_idx, valid_idx = folds[0]\n",
    "train_this_cut = dataset(\n",
    "    train.X.loc[train_idx], train.y.loc[train_idx])\n",
    "valid_this_cut = dataset(\n",
    "    train.X.loc[valid_idx], train.y.loc[valid_idx])\n",
    "print(train_this_cut.X.shape)\n",
    "train_this_cut.X, NAmethod = Preprocessing.fillNA(train_this_cut.X)"
   ]
  },
  {
   "cell_type": "code",
   "execution_count": 44,
   "metadata": {},
   "outputs": [
    {
     "data": {
      "text/plain": [
       "(476179, 125)"
      ]
     },
     "execution_count": 44,
     "metadata": {},
     "output_type": "execute_result"
    }
   ],
   "source": [
    "Preprocessing.dummy(\n",
    "            Preprocessing.addhead(train_this_cut.X, myheader), mydummylist).shape"
   ]
  },
  {
   "cell_type": "code",
   "execution_count": 51,
   "metadata": {
    "collapsed": true
   },
   "outputs": [],
   "source": [
    "myheader = pd.DataFrame.copy(train.X.head(10))"
   ]
  },
  {
   "cell_type": "code",
   "execution_count": 54,
   "metadata": {},
   "outputs": [
    {
     "data": {
      "text/plain": [
       "(10, 86)"
      ]
     },
     "execution_count": 54,
     "metadata": {},
     "output_type": "execute_result"
    }
   ],
   "source": [
    "myheader.shape"
   ]
  },
  {
   "cell_type": "code",
   "execution_count": null,
   "metadata": {
    "collapsed": true
   },
   "outputs": [],
   "source": []
  }
 ],
 "metadata": {
  "kernelspec": {
   "display_name": "Python 2",
   "language": "python",
   "name": "python2"
  },
  "language_info": {
   "codemirror_mode": {
    "name": "ipython",
    "version": 2
   },
   "file_extension": ".py",
   "mimetype": "text/x-python",
   "name": "python",
   "nbconvert_exporter": "python",
   "pygments_lexer": "ipython2",
   "version": "2.7.12"
  }
 },
 "nbformat": 4,
 "nbformat_minor": 2
}
