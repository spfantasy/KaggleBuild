{
 "cells": [
  {
   "cell_type": "code",
   "execution_count": 24,
   "metadata": {
    "collapsed": true
   },
   "outputs": [],
   "source": [
    "%matplotlib inline\n",
    "import numpy as np\n",
    "import pandas as pd\n",
    "from pandas import Series,DataFrame\n",
    "import matplotlib.pyplot as plt\n",
    "import sklearn.preprocessing as preprocessing"
   ]
  },
  {
   "cell_type": "code",
   "execution_count": 25,
   "metadata": {},
   "outputs": [],
   "source": [
    "import warnings\n",
    "warnings.filterwarnings(\"ignore\")"
   ]
  },
  {
   "cell_type": "code",
   "execution_count": 26,
   "metadata": {
    "collapsed": true
   },
   "outputs": [],
   "source": [
    "#generate preprocessed data from Proj_dataset_2.csv\n",
    "# %run myscript.py"
   ]
  },
  {
   "cell_type": "code",
   "execution_count": 27,
   "metadata": {},
   "outputs": [],
   "source": [
    "data_train = pd.read_csv(\"Proj_dataset_1.csv\",index_col = 0)\n",
    "data_train_supplement = pd.read_csv(\"mycsv.csv\",index_col = 0)"
   ]
  },
  {
   "cell_type": "code",
   "execution_count": 28,
   "metadata": {
    "scrolled": true
   },
   "outputs": [
    {
     "data": {
      "text/html": [
       "<div>\n",
       "<table border=\"1\" class=\"dataframe\">\n",
       "  <thead>\n",
       "    <tr style=\"text-align: right;\">\n",
       "      <th></th>\n",
       "      <th>Age</th>\n",
       "      <th>Sex</th>\n",
       "      <th>Job</th>\n",
       "      <th>Housing</th>\n",
       "      <th>Saving accounts</th>\n",
       "      <th>Checking account</th>\n",
       "      <th>Credit amount</th>\n",
       "      <th>Duration</th>\n",
       "      <th>Purpose</th>\n",
       "      <th>Class</th>\n",
       "    </tr>\n",
       "  </thead>\n",
       "  <tbody>\n",
       "    <tr>\n",
       "      <th>0</th>\n",
       "      <td>67</td>\n",
       "      <td>male</td>\n",
       "      <td>2</td>\n",
       "      <td>own</td>\n",
       "      <td>NaN</td>\n",
       "      <td>little</td>\n",
       "      <td>1169</td>\n",
       "      <td>6</td>\n",
       "      <td>radio/TV</td>\n",
       "      <td>1</td>\n",
       "    </tr>\n",
       "    <tr>\n",
       "      <th>1</th>\n",
       "      <td>22</td>\n",
       "      <td>female</td>\n",
       "      <td>2</td>\n",
       "      <td>own</td>\n",
       "      <td>little</td>\n",
       "      <td>moderate</td>\n",
       "      <td>5951</td>\n",
       "      <td>48</td>\n",
       "      <td>radio/TV</td>\n",
       "      <td>2</td>\n",
       "    </tr>\n",
       "    <tr>\n",
       "      <th>2</th>\n",
       "      <td>49</td>\n",
       "      <td>male</td>\n",
       "      <td>1</td>\n",
       "      <td>own</td>\n",
       "      <td>little</td>\n",
       "      <td>NaN</td>\n",
       "      <td>2096</td>\n",
       "      <td>12</td>\n",
       "      <td>education</td>\n",
       "      <td>1</td>\n",
       "    </tr>\n",
       "    <tr>\n",
       "      <th>3</th>\n",
       "      <td>45</td>\n",
       "      <td>male</td>\n",
       "      <td>2</td>\n",
       "      <td>free</td>\n",
       "      <td>little</td>\n",
       "      <td>little</td>\n",
       "      <td>7882</td>\n",
       "      <td>42</td>\n",
       "      <td>furniture/equipment</td>\n",
       "      <td>1</td>\n",
       "    </tr>\n",
       "    <tr>\n",
       "      <th>4</th>\n",
       "      <td>53</td>\n",
       "      <td>male</td>\n",
       "      <td>2</td>\n",
       "      <td>free</td>\n",
       "      <td>little</td>\n",
       "      <td>little</td>\n",
       "      <td>4870</td>\n",
       "      <td>24</td>\n",
       "      <td>car</td>\n",
       "      <td>2</td>\n",
       "    </tr>\n",
       "  </tbody>\n",
       "</table>\n",
       "</div>"
      ],
      "text/plain": [
       "   Age     Sex  Job Housing Saving accounts Checking account  Credit amount  \\\n",
       "0   67    male    2     own             NaN           little           1169   \n",
       "1   22  female    2     own          little         moderate           5951   \n",
       "2   49    male    1     own          little              NaN           2096   \n",
       "3   45    male    2    free          little           little           7882   \n",
       "4   53    male    2    free          little           little           4870   \n",
       "\n",
       "   Duration              Purpose  Class  \n",
       "0         6             radio/TV      1  \n",
       "1        48             radio/TV      2  \n",
       "2        12            education      1  \n",
       "3        42  furniture/equipment      1  \n",
       "4        24                  car      2  "
      ]
     },
     "execution_count": 28,
     "metadata": {},
     "output_type": "execute_result"
    }
   ],
   "source": [
    "data_train.head(5)"
   ]
  },
  {
   "cell_type": "code",
   "execution_count": 29,
   "metadata": {
    "scrolled": true
   },
   "outputs": [
    {
     "data": {
      "text/html": [
       "<div>\n",
       "<table border=\"1\" class=\"dataframe\">\n",
       "  <thead>\n",
       "    <tr style=\"text-align: right;\">\n",
       "      <th></th>\n",
       "      <th>CreditHistory</th>\n",
       "      <th>Purpose</th>\n",
       "      <th>Employed</th>\n",
       "      <th>InstallmentRate</th>\n",
       "      <th>Sex</th>\n",
       "      <th>Guarantors</th>\n",
       "      <th>ResidentSince</th>\n",
       "      <th>Property</th>\n",
       "      <th>Installment</th>\n",
       "      <th>ExistingCredits</th>\n",
       "      <th>JobType</th>\n",
       "      <th>Ability</th>\n",
       "      <th>Telephone</th>\n",
       "      <th>Foreign</th>\n",
       "    </tr>\n",
       "  </thead>\n",
       "  <tbody>\n",
       "    <tr>\n",
       "      <th>0</th>\n",
       "      <td>critical</td>\n",
       "      <td>radio/television</td>\n",
       "      <td>10</td>\n",
       "      <td>4</td>\n",
       "      <td>M_single</td>\n",
       "      <td>none</td>\n",
       "      <td>4</td>\n",
       "      <td>real estate</td>\n",
       "      <td>none</td>\n",
       "      <td>2</td>\n",
       "      <td>skilled</td>\n",
       "      <td>1</td>\n",
       "      <td>Yes</td>\n",
       "      <td>Yes</td>\n",
       "    </tr>\n",
       "    <tr>\n",
       "      <th>1</th>\n",
       "      <td>good3</td>\n",
       "      <td>radio/television</td>\n",
       "      <td>4</td>\n",
       "      <td>2</td>\n",
       "      <td>F_married/divorced</td>\n",
       "      <td>none</td>\n",
       "      <td>2</td>\n",
       "      <td>real estate</td>\n",
       "      <td>none</td>\n",
       "      <td>1</td>\n",
       "      <td>skilled</td>\n",
       "      <td>1</td>\n",
       "      <td>None</td>\n",
       "      <td>Yes</td>\n",
       "    </tr>\n",
       "    <tr>\n",
       "      <th>2</th>\n",
       "      <td>critical</td>\n",
       "      <td>education</td>\n",
       "      <td>7</td>\n",
       "      <td>2</td>\n",
       "      <td>M_single</td>\n",
       "      <td>none</td>\n",
       "      <td>3</td>\n",
       "      <td>real estate</td>\n",
       "      <td>none</td>\n",
       "      <td>1</td>\n",
       "      <td>unskilled_R</td>\n",
       "      <td>2</td>\n",
       "      <td>None</td>\n",
       "      <td>Yes</td>\n",
       "    </tr>\n",
       "    <tr>\n",
       "      <th>3</th>\n",
       "      <td>good3</td>\n",
       "      <td>furniture/equipment</td>\n",
       "      <td>7</td>\n",
       "      <td>2</td>\n",
       "      <td>M_single</td>\n",
       "      <td>guarantor</td>\n",
       "      <td>4</td>\n",
       "      <td>Insurance</td>\n",
       "      <td>none</td>\n",
       "      <td>1</td>\n",
       "      <td>skilled</td>\n",
       "      <td>2</td>\n",
       "      <td>None</td>\n",
       "      <td>Yes</td>\n",
       "    </tr>\n",
       "    <tr>\n",
       "      <th>4</th>\n",
       "      <td>delay</td>\n",
       "      <td>car(new)</td>\n",
       "      <td>4</td>\n",
       "      <td>3</td>\n",
       "      <td>M_single</td>\n",
       "      <td>none</td>\n",
       "      <td>4</td>\n",
       "      <td>none/unknown</td>\n",
       "      <td>none</td>\n",
       "      <td>2</td>\n",
       "      <td>skilled</td>\n",
       "      <td>2</td>\n",
       "      <td>None</td>\n",
       "      <td>Yes</td>\n",
       "    </tr>\n",
       "  </tbody>\n",
       "</table>\n",
       "</div>"
      ],
      "text/plain": [
       "  CreditHistory              Purpose  Employed  InstallmentRate  \\\n",
       "0      critical     radio/television        10                4   \n",
       "1         good3     radio/television         4                2   \n",
       "2      critical            education         7                2   \n",
       "3         good3  furniture/equipment         7                2   \n",
       "4         delay             car(new)         4                3   \n",
       "\n",
       "                  Sex Guarantors  ResidentSince      Property Installment  \\\n",
       "0            M_single       none              4   real estate        none   \n",
       "1  F_married/divorced       none              2   real estate        none   \n",
       "2            M_single       none              3   real estate        none   \n",
       "3            M_single  guarantor              4     Insurance        none   \n",
       "4            M_single       none              4  none/unknown        none   \n",
       "\n",
       "   ExistingCredits      JobType  Ability Telephone Foreign  \n",
       "0                2      skilled        1       Yes     Yes  \n",
       "1                1      skilled        1      None     Yes  \n",
       "2                1  unskilled_R        2      None     Yes  \n",
       "3                1      skilled        2      None     Yes  \n",
       "4                2      skilled        2      None     Yes  "
      ]
     },
     "execution_count": 29,
     "metadata": {},
     "output_type": "execute_result"
    }
   ],
   "source": [
    "data_train_supplement.head(5)"
   ]
  },
  {
   "cell_type": "code",
   "execution_count": 30,
   "metadata": {
    "collapsed": true
   },
   "outputs": [],
   "source": [
    "def process_nan(df,key):\n",
    "    pass"
   ]
  },
  {
   "cell_type": "code",
   "execution_count": 31,
   "metadata": {
    "collapsed": true
   },
   "outputs": [],
   "source": [
    "def process_str(df,ret_df,key,elim_null = False):\n",
    "    if elim_null:\n",
    "        process_nan(df,key)\n",
    "    ret_df = pd.concat([ret_df,pd.get_dummies(df[key],prefix = key)],axis = 1)   \n",
    "    return ret_df"
   ]
  },
  {
   "cell_type": "code",
   "execution_count": 32,
   "metadata": {
    "collapsed": true
   },
   "outputs": [],
   "source": [
    "def process_numeric(df,ret_df,key,elim_null = False):\n",
    "    if elim_null:\n",
    "        process_nan(df,key)\n",
    "    scaler = preprocessing.StandardScaler()\n",
    "    tmp_scaledparam = scaler.fit(df[key])\n",
    "    ret_df[key+'_scaled'] = scaler.fit_transform(df[key],tmp_scaledparam)    \n",
    "    return ret_df"
   ]
  },
  {
   "cell_type": "code",
   "execution_count": 52,
   "metadata": {},
   "outputs": [],
   "source": [
    "def process_all(df):\n",
    "    ret_df = DataFrame()\n",
    "    for key in list(df):# each column\n",
    "        for element in df[key]:\n",
    "            # find a non-empty element representing that colum\n",
    "            if(not pd.isnull(element)):\n",
    "                break\n",
    "        if type(element)==np.int64 or type(element)==int or type(element)==np.float64:\n",
    "            # do scaling for int type\n",
    "            ret_df = process_numeric(df,ret_df,key)\n",
    "        elif type(element)==np.str:\n",
    "            # do dummy for str type\n",
    "            ret_df = process_str(df,ret_df,key)\n",
    "        else:\n",
    "            #raise exception\n",
    "            print(\"unexpected type for \",key,\" :\",type(element))\n",
    "            break\n",
    "    return ret_df"
   ]
  },
  {
   "cell_type": "code",
   "execution_count": 34,
   "metadata": {
    "collapsed": true
   },
   "outputs": [],
   "source": [
    "from sklearn.learning_curve import learning_curve\n",
    "\n",
    "def plot_learning_curve(estimator, title, X, y, ylim=None, cv=None, n_jobs=1, \n",
    "                        train_sizes=np.linspace(.05, 1., 20), verbose=0, plot=True):\n",
    "    train_sizes, train_scores, test_scores = learning_curve(\n",
    "        estimator, X, y, cv=cv, n_jobs=n_jobs, train_sizes=train_sizes, verbose=verbose)\n",
    "\n",
    "    train_scores_mean = np.mean(train_scores, axis=1)\n",
    "    train_scores_std = np.std(train_scores, axis=1)\n",
    "    test_scores_mean = np.mean(test_scores, axis=1)\n",
    "    test_scores_std = np.std(test_scores, axis=1)\n",
    "\n",
    "    if plot:\n",
    "        plt.figure()\n",
    "        plt.title(title)\n",
    "        if ylim is not None:\n",
    "            plt.ylim(*ylim)\n",
    "        plt.xlabel(\"sample num\")\n",
    "        plt.ylabel(\"score\")\n",
    "        plt.gca().invert_yaxis()\n",
    "        plt.grid()\n",
    "\n",
    "        plt.fill_between(train_sizes, train_scores_mean - train_scores_std, train_scores_mean + train_scores_std, \n",
    "                         alpha=0.1, color=\"b\")\n",
    "        plt.fill_between(train_sizes, test_scores_mean - test_scores_std, test_scores_mean + test_scores_std, \n",
    "                         alpha=0.1, color=\"r\")\n",
    "        plt.plot(train_sizes, train_scores_mean, 'o-', color=\"b\", label=\"training score\")\n",
    "        plt.plot(train_sizes, test_scores_mean, 'o-', color=\"r\", label=\"cv score\")\n",
    "\n",
    "        plt.legend(loc=\"best\")\n",
    "\n",
    "        plt.draw()\n",
    "#         plt.show()\n",
    "        plt.gca().invert_yaxis()\n",
    "\n",
    "    midpoint = ((train_scores_mean[-1] + train_scores_std[-1]) + (test_scores_mean[-1] - test_scores_std[-1])) / 2\n",
    "    diff = (train_scores_mean[-1] + train_scores_std[-1]) - (test_scores_mean[-1] - test_scores_std[-1])\n",
    "    return midpoint, diff"
   ]
  },
  {
   "cell_type": "code",
   "execution_count": 97,
   "metadata": {
    "scrolled": true
   },
   "outputs": [
    {
     "data": {
      "text/plain": [
       "['Age_scaled',\n",
       " 'Housing_scaled',\n",
       " 'Saving accounts_scaled',\n",
       " 'Checking account_NULL',\n",
       " 'Checking account_little',\n",
       " 'Checking account_moderate',\n",
       " 'Checking account_rich',\n",
       " 'Credit amount_scaled',\n",
       " 'Duration_scaled',\n",
       " 'CreditHistory_critical',\n",
       " 'CreditHistory_delay',\n",
       " 'CreditHistory_good1',\n",
       " 'CreditHistory_good2',\n",
       " 'CreditHistory_good3',\n",
       " 'Purpose_business',\n",
       " 'Purpose_car(new)',\n",
       " 'Purpose_car(used)',\n",
       " 'Purpose_domestic appliances',\n",
       " 'Purpose_education',\n",
       " 'Purpose_furniture/equipment',\n",
       " 'Purpose_others',\n",
       " 'Purpose_radio/television',\n",
       " 'Purpose_repairs',\n",
       " 'Purpose_retraining',\n",
       " 'Employed_scaled',\n",
       " 'InstallmentRate_scaled',\n",
       " 'Sex_F_married/divorced',\n",
       " 'Sex_M_divorced',\n",
       " 'Sex_M_married',\n",
       " 'Sex_M_single',\n",
       " 'Guarantors_co-applicant',\n",
       " 'Guarantors_guarantor',\n",
       " 'Guarantors_none',\n",
       " 'ResidentSince_scaled',\n",
       " 'Property_Insurance',\n",
       " 'Property_car/other',\n",
       " 'Property_none/unknown',\n",
       " 'Property_real estate',\n",
       " 'Installment_bank',\n",
       " 'Installment_none',\n",
       " 'Installment_stores',\n",
       " 'ExistingCredits_scaled',\n",
       " 'JobType_other',\n",
       " 'JobType_skilled',\n",
       " 'JobType_unskilled_NonR',\n",
       " 'JobType_unskilled_R',\n",
       " 'Ability_scaled',\n",
       " 'Telephone_None',\n",
       " 'Telephone_Yes',\n",
       " 'Foreign_No',\n",
       " 'Foreign_Yes',\n",
       " 'CreditPerDuration_scaled',\n",
       " 'CreditPerAge_scaled']"
      ]
     },
     "execution_count": 97,
     "metadata": {},
     "output_type": "execute_result"
    }
   ],
   "source": [
    "#extract label\n",
    "y = data_train.Class\n",
    "#remove label\n",
    "used_dataset = data_train.drop(\"Class\",1)\n",
    "#add new features\n",
    "used_dataset = pd.concat([used_dataset,data_train_supplement['CreditHistory']],axis = 1)\n",
    "used_dataset = used_dataset.drop(\"Purpose\",1)\n",
    "used_dataset = pd.concat([used_dataset,data_train_supplement['Purpose']],axis = 1)\n",
    "used_dataset = pd.concat([used_dataset,data_train_supplement['Employed']],axis = 1)\n",
    "used_dataset = pd.concat([used_dataset,data_train_supplement['InstallmentRate']],axis = 1)\n",
    "used_dataset = used_dataset.drop(\"Sex\",1)\n",
    "used_dataset = pd.concat([used_dataset,data_train_supplement['Sex']],axis = 1)\n",
    "used_dataset = pd.concat([used_dataset,data_train_supplement['Guarantors']],axis = 1)\n",
    "used_dataset = pd.concat([used_dataset,data_train_supplement['ResidentSince']],axis = 1)\n",
    "used_dataset = pd.concat([used_dataset,data_train_supplement['Property']],axis = 1)\n",
    "used_dataset = pd.concat([used_dataset,data_train_supplement['Installment']],axis = 1)\n",
    "used_dataset = pd.concat([used_dataset,data_train_supplement['ExistingCredits']],axis = 1)\n",
    "used_dataset = used_dataset.drop(\"Job\",1)\n",
    "used_dataset = pd.concat([used_dataset,data_train_supplement['JobType']],axis = 1)\n",
    "used_dataset = pd.concat([used_dataset,data_train_supplement['Ability']],axis = 1)\n",
    "used_dataset = pd.concat([used_dataset,data_train_supplement['Telephone']],axis = 1)\n",
    "used_dataset = pd.concat([used_dataset,data_train_supplement['Foreign']],axis = 1)\n",
    "\n",
    "used_dataset.loc[used_dataset.Housing=='own', 'Housing' ] = 2\n",
    "used_dataset.loc[used_dataset.Housing=='rent', 'Housing' ] = 1\n",
    "used_dataset.loc[used_dataset.Housing=='free', 'Housing' ] = 0\n",
    "\n",
    "used_dataset.loc[used_dataset['Saving accounts'].isnull(), 'Saving accounts' ] = 0\n",
    "used_dataset.loc[used_dataset['Saving accounts']=='little', 'Saving accounts' ] = 50\n",
    "used_dataset.loc[used_dataset['Saving accounts']=='moderate', 'Saving accounts' ] = 300\n",
    "used_dataset.loc[used_dataset['Saving accounts']=='rich', 'Saving accounts' ] = 750\n",
    "used_dataset.loc[used_dataset['Saving accounts']=='quite rich', 'Saving accounts' ] = 1250\n",
    "\n",
    "used_dataset.loc[used_dataset['Checking account'].isnull(), 'Checking account' ] = 'NULL'\n",
    "\n",
    "CreditPerDuration = used_dataset['Credit amount'].div(used_dataset['Duration'])\n",
    "used_dataset = pd.concat([used_dataset,CreditPerDuration],axis = 1)\n",
    "used_dataset=used_dataset.rename(columns = {0:'CreditPerDuration'})\n",
    "\n",
    "CreditPerAge = used_dataset['Credit amount'].div(used_dataset['Age'])\n",
    "used_dataset = pd.concat([used_dataset,CreditPerAge],axis = 1)\n",
    "used_dataset=used_dataset.rename(columns = {0:'CreditPerAge'})\n",
    "#preprocessing\n",
    "df = process_all(used_dataset)\n",
    "list(df)"
   ]
  },
  {
   "cell_type": "code",
   "execution_count": 98,
   "metadata": {},
   "outputs": [],
   "source": [
    "X = df.as_matrix()"
   ]
  },
  {
   "cell_type": "markdown",
   "metadata": {},
   "source": [
    "### Logistic Regression"
   ]
  },
  {
   "cell_type": "code",
   "execution_count": 99,
   "metadata": {},
   "outputs": [
    {
     "name": "stdout",
     "output_type": "stream",
     "text": [
      "[ 0.8   0.72  0.76  0.77  0.77  0.76  0.68  0.78  0.72  0.74]\n",
      "mean =  0.75 , std =  0.0334664010614\n"
     ]
    }
   ],
   "source": [
    "from sklearn import linear_model\n",
    "from sklearn.model_selection import cross_val_score\n",
    "\n",
    "rfr = linear_model.LogisticRegression(C=1.0, penalty='l1', tol=1e-6)\n",
    "scores = cross_val_score(rfr, X, y, cv=10)\n",
    "print(scores)\n",
    "print('mean = ',np.mean(scores),', std = ',np.std(scores))"
   ]
  },
  {
   "cell_type": "markdown",
   "metadata": {},
   "source": [
    "### SVM"
   ]
  },
  {
   "cell_type": "code",
   "execution_count": 100,
   "metadata": {
    "scrolled": true
   },
   "outputs": [
    {
     "name": "stdout",
     "output_type": "stream",
     "text": [
      "The best parameters are {'gamma': 0.01, 'C': 20, 'kernel': 'rbf', 'coef0': 0} with a score of 0.77\n"
     ]
    }
   ],
   "source": [
    "from sklearn import svm\n",
    "from sklearn.model_selection import cross_val_score\n",
    "from sklearn.model_selection import GridSearchCV\n",
    "\n",
    "clf_SVM = svm.SVC()\n",
    "\n",
    "parameters = {'kernel':('rbf','poly'), \n",
    "              'C':[1,10,20],\n",
    "              'gamma':[1e-3,1e-2,0.1],\n",
    "              'coef0':[0,1e-4,1e-3]}\n",
    "clf_SVM_Grid = GridSearchCV(clf_SVM, parameters,n_jobs=-1)\n",
    "clf_SVM_Grid.fit(X,y)\n",
    "\n",
    "print(\"The best parameters are %s with a score of %0.2f\"\n",
    "      % (clf_SVM_Grid.best_params_, clf_SVM_Grid.best_score_))\n",
    "\n"
   ]
  },
  {
   "cell_type": "code",
   "execution_count": 101,
   "metadata": {},
   "outputs": [
    {
     "name": "stdout",
     "output_type": "stream",
     "text": [
      "[ 0.83  0.68  0.77  0.79  0.78  0.76  0.72  0.81  0.7   0.76]\n",
      "mean =  0.76 , std =  0.0451663591625\n"
     ]
    }
   ],
   "source": [
    "clf_SVM = clf_SVM_Grid.best_estimator_\n",
    "scores = cross_val_score(clf_SVM, X, y, cv=10)\n",
    "print(scores)\n",
    "print('mean = ',np.mean(scores),', std = ',np.std(scores))"
   ]
  },
  {
   "cell_type": "markdown",
   "metadata": {},
   "source": [
    "### RF"
   ]
  },
  {
   "cell_type": "code",
   "execution_count": 102,
   "metadata": {
    "scrolled": false
   },
   "outputs": [
    {
     "name": "stdout",
     "output_type": "stream",
     "text": [
      "The best parameters are {'max_features': 'sqrt', 'n_estimators': 200, 'max_depth': None} with a score of 0.76\n"
     ]
    }
   ],
   "source": [
    "from sklearn.ensemble import RandomForestClassifier\n",
    "from sklearn.model_selection import cross_val_score\n",
    "clf_RF = RandomForestClassifier(criterion= 'gini',\n",
    "                             class_weight= 'balanced',\n",
    "                             min_samples_leaf = 5,\n",
    "                             oob_score = True, \n",
    "                             n_jobs = -1,\n",
    "                             warm_start = True)\n",
    "parameters = {'n_estimators':[50,100,200,500],\n",
    "              'max_features':['sqrt','log2',None],\n",
    "              'max_depth':[8,16,None]}\n",
    "clf_RF_Grid = GridSearchCV(clf_RF, parameters,n_jobs=-1)\n",
    "clf_RF_Grid.fit(X,y)\n",
    "\n",
    "print(\"The best parameters are %s with a score of %0.2f\"\n",
    "      % (clf_RF_Grid.best_params_, clf_RF_Grid.best_score_))\n",
    "\n"
   ]
  },
  {
   "cell_type": "code",
   "execution_count": 103,
   "metadata": {},
   "outputs": [
    {
     "name": "stdout",
     "output_type": "stream",
     "text": [
      "[ 0.81  0.7   0.75  0.75  0.75  0.81  0.71  0.8   0.76  0.7 ]\n",
      "mean =  0.754 , std =  0.0402988833592\n"
     ]
    }
   ],
   "source": [
    "clf_RF = clf_RF_Grid.best_estimator_\n",
    "scores = cross_val_score(clf_RF, X, y, cv=10,)\n",
    "print(scores)\n",
    "print('mean = ',np.mean(scores),', std = ',np.std(scores))"
   ]
  },
  {
   "cell_type": "markdown",
   "metadata": {},
   "source": [
    "### Gradient Boosting"
   ]
  },
  {
   "cell_type": "code",
   "execution_count": 104,
   "metadata": {},
   "outputs": [
    {
     "name": "stdout",
     "output_type": "stream",
     "text": [
      "The best parameters are {'max_features': 'log2', 'learning_rate': 0.1, 'n_estimators': 100, 'max_depth': 3} with a score of 0.79\n"
     ]
    }
   ],
   "source": [
    "from sklearn.ensemble import GradientBoostingClassifier\n",
    "clf_GB = GradientBoostingClassifier()\n",
    "\n",
    "parameters = {'learning_rate':[1e-2,0.1,0.5],\n",
    "              'n_estimators':[50,100,200,500],\n",
    "              'max_depth':[2,3,4],\n",
    "              'max_features':['sqrt','log2',None]}\n",
    "clf_GB_Grid = GridSearchCV(clf_GB, parameters,n_jobs=-1)\n",
    "clf_GB_Grid.fit(X,y)\n",
    "\n",
    "print(\"The best parameters are %s with a score of %0.2f\"\n",
    "      % (clf_GB_Grid.best_params_, clf_GB_Grid.best_score_))\n"
   ]
  },
  {
   "cell_type": "code",
   "execution_count": 105,
   "metadata": {},
   "outputs": [
    {
     "name": "stdout",
     "output_type": "stream",
     "text": [
      "[ 0.83  0.74  0.74  0.8   0.76  0.73  0.76  0.82  0.81  0.76]\n",
      "mean =  0.775 , std =  0.0347131099154\n"
     ]
    }
   ],
   "source": [
    "clf_GB = clf_GB_Grid.best_estimator_\n",
    "scores = cross_val_score(clf_GB, X, y, cv=10)\n",
    "print(scores)\n",
    "print('mean = ',np.mean(scores),', std = ',np.std(scores))"
   ]
  },
  {
   "cell_type": "markdown",
   "metadata": {},
   "source": [
    "### extremely randomized trees"
   ]
  },
  {
   "cell_type": "code",
   "execution_count": 106,
   "metadata": {},
   "outputs": [
    {
     "name": "stdout",
     "output_type": "stream",
     "text": [
      "The best parameters are {'max_features': 'log2', 'n_estimators': 20, 'max_depth': 16, 'class_weight': 'balanced_subsample'} with a score of 0.76\n"
     ]
    }
   ],
   "source": [
    "from sklearn.ensemble import ExtraTreesClassifier\n",
    "clf_ET = ExtraTreesClassifier()\n",
    "\n",
    "\n",
    "parameters = {'n_estimators':[5,10,20],\n",
    "              'max_features':['sqrt','log2',None],\n",
    "              'max_depth':[4,8,16,None],\n",
    "              'class_weight':['balanced','balanced_subsample',None]}\n",
    "clf_ET_Grid = GridSearchCV(clf_ET, parameters,n_jobs=-1)\n",
    "clf_ET_Grid.fit(X,y)\n",
    "\n",
    "print(\"The best parameters are %s with a score of %0.2f\"\n",
    "      % (clf_ET_Grid.best_params_, clf_ET_Grid.best_score_))"
   ]
  },
  {
   "cell_type": "code",
   "execution_count": 107,
   "metadata": {},
   "outputs": [
    {
     "name": "stdout",
     "output_type": "stream",
     "text": [
      "[ 0.77  0.73  0.76  0.71  0.76  0.77  0.75  0.76  0.78  0.75]\n",
      "mean =  0.754 , std =  0.0195959179423\n"
     ]
    }
   ],
   "source": [
    "clf_ET = clf_ET_Grid.best_estimator_\n",
    "scores = cross_val_score(clf_ET, X, y, cv=10)\n",
    "print(scores)\n",
    "print('mean = ',np.mean(scores),', std = ',np.std(scores))"
   ]
  },
  {
   "cell_type": "markdown",
   "metadata": {},
   "source": [
    "### Ensembled"
   ]
  },
  {
   "cell_type": "code",
   "execution_count": 109,
   "metadata": {},
   "outputs": [
    {
     "name": "stdout",
     "output_type": "stream",
     "text": [
      "0.7707\n"
     ]
    }
   ],
   "source": [
    "from sklearn.ensemble import VotingClassifier\n",
    "clf_Ensembled = VotingClassifier(estimators=[('SVM', clf_SVM), ('RF', clf_RF), ('GB', clf_GB),('ET',clf_ET)], voting='hard')\n",
    "#\n",
    "final = 0\n",
    "for _ in range(10):\n",
    "    scores = cross_val_score(clf_Ensembled, X, y, cv=10)\n",
    "#     print(scores)\n",
    "#     print('mean = ',np.mean(scores),', std = ',np.std(scores))\n",
    "    final += np.mean(scores)\n",
    "print(final/10)"
   ]
  },
  {
   "cell_type": "markdown",
   "metadata": {},
   "source": [
    "### find importance from RF"
   ]
  },
  {
   "cell_type": "code",
   "execution_count": 29,
   "metadata": {},
   "outputs": [
    {
     "name": "stdout",
     "output_type": "stream",
     "text": [
      "Credit amount_scaled           : 0.109\n",
      "Age_scaled                     : 0.088\n",
      "Duration_scaled                : 0.087\n",
      "CreditHistory_scaled           : 0.052\n",
      "Checking account_little        : 0.046\n",
      "Employed_scaled                : 0.045\n",
      "InstallmentRate_scaled         : 0.040\n",
      "ResidentSince_scaled           : 0.035\n",
      "Checking account_moderate      : 0.032\n",
      "Saving accounts_little         : 0.023\n",
      "Purpose_car(new)               : 0.020\n",
      "Purpose_radio/television       : 0.017\n",
      "ExistingCredits_scaled         : 0.017\n",
      "Sex_M_single                   : 0.017\n",
      "JobType_skilled                : 0.017\n",
      "Housing_own                    : 0.017\n",
      "Property_car/other             : 0.016\n",
      "Telephone_Yes                  : 0.016\n",
      "Purpose_car(used)              : 0.016\n",
      "Installment_none               : 0.016\n",
      "Installment_bank               : 0.016\n",
      "Property_real estate           : 0.015\n",
      "Ability_scaled                 : 0.015\n",
      "Telephone_None                 : 0.015\n",
      "Sex_F_married/divorced         : 0.014\n",
      "Purpose_furniture/equipment    : 0.014\n",
      "Property_Insurance             : 0.013\n",
      "Property_none/unknown          : 0.012\n",
      "JobType_other                  : 0.012\n",
      "JobType_unskilled_R            : 0.011\n",
      "Purpose_business               : 0.011\n",
      "Saving accounts_quite rich     : 0.010\n",
      "Saving accounts_rich           : 0.009\n",
      "Checking account_rich          : 0.009\n",
      "Guarantors_none                : 0.009\n",
      "Saving accounts_moderate       : 0.009\n",
      "Housing_rent                   : 0.009\n",
      "Purpose_education              : 0.008\n",
      "Guarantors_guarantor           : 0.008\n",
      "Installment_stores             : 0.008\n",
      "Sex_M_married                  : 0.008\n",
      "Housing_free                   : 0.007\n",
      "Sex_M_divorced                 : 0.007\n",
      "Guarantors_co-applicant        : 0.006\n",
      "Purpose_repairs                : 0.005\n",
      "Foreign_Yes                    : 0.005\n",
      "Foreign_Non                    : 0.004\n",
      "JobType_unskilled_NonR         : 0.003\n",
      "Purpose_domestic appliances    : 0.002\n",
      "Purpose_others                 : 0.002\n",
      "Purpose_retraining             : 0.001\n"
     ]
    }
   ],
   "source": [
    "from sklearn.ensemble import RandomForestClassifier\n",
    "clf = RandomForestClassifier(criterion= 'gini',n_estimators= 50 ,class_weight= 'balanced',oob_score = True, n_jobs = -1,warm_start=True)\n",
    "clf.fit(X[:800],y[:800])\n",
    "y_ = clf.predict(X[800:])\n",
    "score = np.sum(y[800:]==y_)/np.size(y_)\n",
    "score\n",
    "\n",
    "for (i,j) in sorted(zip(np.array(list(df)),clf.feature_importances_), key=lambda x: (None, x[1]),reverse=True):\n",
    "    print('{:30s}'.format(i),':','{:.3f}'.format(j))"
   ]
  }
 ],
 "metadata": {
  "anaconda-cloud": {},
  "kernelspec": {
   "display_name": "Python 2",
   "language": "python",
   "name": "python2"
  },
  "language_info": {
   "codemirror_mode": {
    "name": "ipython",
    "version": 2
   },
   "file_extension": ".py",
   "mimetype": "text/x-python",
   "name": "python",
   "nbconvert_exporter": "python",
   "pygments_lexer": "ipython2",
   "version": "2.7.12"
  }
 },
 "nbformat": 4,
 "nbformat_minor": 1
}
