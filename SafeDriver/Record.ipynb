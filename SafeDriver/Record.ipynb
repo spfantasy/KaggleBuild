{
 "cells": [
  {
   "cell_type": "markdown",
   "metadata": {},
   "source": [
    "# report"
   ]
  },
  {
   "cell_type": "markdown",
   "metadata": {},
   "source": [
    "1.EDA"
   ]
  },
  {
   "cell_type": "markdown",
   "metadata": {},
   "source": [
    "2.预处理"
   ]
  },
  {
   "cell_type": "markdown",
   "metadata": {},
   "source": [
    "暂时先做最简单的， NA->-1, Dummy 所有cata且个数<10的， std没做"
   ]
  },
  {
   "cell_type": "markdown",
   "metadata": {},
   "source": [
    "3.BaseModel"
   ]
  },
  {
   "cell_type": "markdown",
   "metadata": {},
   "source": [
    "Boosting Trees"
   ]
  },
  {
   "cell_type": "markdown",
   "metadata": {},
   "source": [
    "RF"
   ]
  },
  {
   "cell_type": "markdown",
   "metadata": {},
   "source": [
    "GridSearch"
   ]
  },
  {
   "cell_type": "markdown",
   "metadata": {},
   "source": [
    "Fine Tuned Accuracy"
   ]
  },
  {
   "cell_type": "markdown",
   "metadata": {},
   "source": [
    "    XGB\n",
    "        param = {'eta': 0.02, \n",
    "                'max_depth': 4, \n",
    "                'subsample': 0.9, \n",
    "                'colsample_bytree': 0.9, \n",
    "                'objective': 'binary:logistic', \n",
    "                'eval_metric': 'auc', \n",
    "                'seed': 99, \n",
    "                'silent': True\n",
    "               }  \n",
    "    cv_accuracy = 0.2835\n",
    "    test = 0.280"
   ]
  },
  {
   "cell_type": "markdown",
   "metadata": {},
   "source": [
    "    LGBM1\n",
    "        param = {\n",
    "            'learning_rate' : 0.02,\n",
    "            'n_estimators' : 650,\n",
    "            'max_bin' : 10,\n",
    "            'subsample' : 0.8,\n",
    "            'subsample_freq' : 10,\n",
    "            'colsample_bytree' : 0.8,\n",
    "            'min_child_samples' : 500,\n",
    "            'seed' : 99,\n",
    "            }\n",
    "    cv_accuracy = 0.2844\n",
    "    test = 0.281"
   ]
  },
  {
   "cell_type": "markdown",
   "metadata": {},
   "source": [
    "    LGBM2\n",
    "        param = {\n",
    "                'learning_rate' : 0.02,\n",
    "                'n_estimators' : 1090,\n",
    "                'subsample' : 0.7,\n",
    "                'subsample_freq' : 2,\n",
    "                'num_leaves' : 16,\n",
    "                'seed' : 99,\n",
    "                }\n",
    "    cv_accuracy = 0.2833               \n",
    "    test = 0.281"
   ]
  },
  {
   "cell_type": "markdown",
   "metadata": {},
   "source": [
    "    RF\n",
    "        param = {'n_estimators': 150,\n",
    "                    'criterion': 'gini',\n",
    "                    'max_features': 'log2',\n",
    "                    'max_depth': 9,\n",
    "                    'min_samples_split': 70,\n",
    "                    'min_samples_leaf': 30,\n",
    "                    'n_jobs' : -1,\n",
    "                    'max_leaf_nodes': None,\n",
    "                    'bootstrap': True,\n",
    "                    'oob_score': True,\n",
    "                    'random_state': 99,\n",
    "                    'verbose': 0,\n",
    "                    'warm_start': True,\n",
    "                    'class_weight': {0: 0.0364, 1: 0.9635},\n",
    "                    }\n",
    "    cv_accuracy = 0.2589                 "
   ]
  },
  {
   "cell_type": "markdown",
   "metadata": {},
   "source": [
    "4.Stacking"
   ]
  },
  {
   "cell_type": "markdown",
   "metadata": {
    "collapsed": true
   },
   "source": [
    "    stacking@test\n",
    "        all_50%      : 0.272\n",
    "        all_weighted : 0.273\n",
    "        3_weighted   : 0.281\n",
    "        3_50%        : 0.282"
   ]
  },
  {
   "cell_type": "markdown",
   "metadata": {},
   "source": [
    "5.预处理测略"
   ]
  },
  {
   "cell_type": "markdown",
   "metadata": {},
   "source": [
    "    不给dummy设置上限？变成227，看看看结果\n",
    "    ->validation\n",
    "        0.2840\n",
    "        0.2842\n",
    "        0.2838\n",
    "    ->test@stacking\n",
    "        0.283"
   ]
  },
  {
   "cell_type": "markdown",
   "metadata": {},
   "source": [
    "    +missing&reg*car\n",
    "        0.2844\n",
    "        0.2851\n",
    "        0.2839\n",
    "    ->test@stacking\n",
    "        0.282"
   ]
  },
  {
   "cell_type": "markdown",
   "metadata": {},
   "source": [
    "    dimension reduction\n",
    "    忽悠一下shadow\n",
    "        0.2856\n",
    "        0.2871\n",
    "        0.2854\n",
    "    ->test@stacking\n",
    "        0.285"
   ]
  },
  {
   "cell_type": "markdown",
   "metadata": {},
   "source": [
    "    NA的列都删了？(X)\n",
    "    ->validation\n",
    "        xgboost : 0.2529\n",
    "        lgbm1   : 0.2502\n",
    "        lgbm2   : 0.2510"
   ]
  },
  {
   "cell_type": "markdown",
   "metadata": {},
   "source": [
    "std"
   ]
  },
  {
   "cell_type": "markdown",
   "metadata": {},
   "source": [
    "    @xgboost\n",
    "    None    0.2856     10:34 -> 12:01\n",
    "    minmax  0.2855     13:23 -> 14:50 <-\n",
    "    meanstd 0.2854     16:17 -> 17:48"
   ]
  },
  {
   "cell_type": "markdown",
   "metadata": {},
   "source": [
    "NA"
   ]
  },
  {
   "cell_type": "markdown",
   "metadata": {
    "collapsed": true
   },
   "source": [
    "    bin/cata -> -1\n",
    "    else ->mean\n",
    "    @xg                0.2866\n",
    "    @lgbm1             0.2881\n",
    "    @lgbm2             0.2868\n",
    "    ->test@stacking\n",
    "        0.0285"
   ]
  },
  {
   "cell_type": "markdown",
   "metadata": {},
   "source": [
    "    这里用EM既费时间假设不对又结果不好，只有binary比较好用GMM"
   ]
  },
  {
   "cell_type": "markdown",
   "metadata": {},
   "source": [
    "Empirical Bayesian Encoding"
   ]
  },
  {
   "cell_type": "markdown",
   "metadata": {},
   "source": [
    "https://kaggle2.blob.core.windows.net/forum-message-attachments/225952/7441/high%20cardinality%20categoricals.pdf"
   ]
  },
  {
   "cell_type": "markdown",
   "metadata": {},
   "source": [
    "    'ps_car_11_cat' throw origin\n",
    "         @xgb     0.2881\n",
    "         @lgbm1   0.2882\n",
    "         @lgbm2   0.2880\n",
    "         ->test@stacking\n",
    "                  0.285\n",
    "     >=10           throw origin  <-\n",
    "        @xgb      0.2884\n",
    "        @lgbm1    0.2892\n",
    "        @lgbm2    0.2883\n",
    "        ->test@stacking\n",
    "                  0.285\n",
    "     >=10           keep origin\n",
    "        @xgb      \n",
    "        @lgbm1    0.2876\n",
    "        @lgbm2    0.2868\n",
    "     >=3            throw origin\n",
    "        @xgb      0.2843\n",
    "                  0.2858\n",
    "        @lgbm1    0.2850\n",
    "        @lgbm2    0.2849       \n",
    "     >=13\n",
    "         0.2882\n",
    "         0.2895[\n",
    "         0.2892\n",
    "         0.2881"
   ]
  },
  {
   "cell_type": "markdown",
   "metadata": {},
   "source": [
    "类别没有被Dummy的进行分析"
   ]
  },
  {
   "cell_type": "code",
   "execution_count": 1,
   "metadata": {
    "collapsed": true
   },
   "outputs": [],
   "source": [
    "from script_preprocessing import *"
   ]
  },
  {
   "cell_type": "code",
   "execution_count": 2,
   "metadata": {
    "collapsed": true
   },
   "outputs": [],
   "source": [
    "from __future__ import absolute_import\n",
    "from __future__ import print_function\n",
    "from __future__ import division\n",
    "from __future__ import unicode_literals\n",
    "\n",
    "import warnings\n",
    "warnings.filterwarnings(\"ignore\")\n",
    "import numpy as np\n",
    "import pandas as pd\n",
    "from sklearn.model_selection import StratifiedKFold\n",
    "\n",
    "from modeling import dataset\n",
    "from preprocessing import Preprocessing as PP\n"
   ]
  },
  {
   "cell_type": "code",
   "execution_count": 3,
   "metadata": {},
   "outputs": [
    {
     "name": "stdout",
     "output_type": "stream",
     "text": [
      "loading data to memory...\n"
     ]
    }
   ],
   "source": [
    "# read csv as dataframe\n",
    "filename = \"./cv/cv_\"\n",
    "print(\"loading data to memory...\")\n",
    "train = pd.read_csv(\"./original/train.csv\")\n",
    "test = pd.read_csv(\"./original/test.csv\")\n",
    "# drop unrelated items\n",
    "train = dataset(train.drop(\"id\", 1).drop(\"target\", 1),\n",
    "                train.target.to_frame('target'))\n",
    "test = dataset(test.drop(\"id\", 1), test.id.to_frame('id'))\n",
    "# -1 are actually NaN\n",
    "train.X = train.X.replace(-1, np.nan)\n",
    "test.X = test .X.replace(-1, np.nan)"
   ]
  },
  {
   "cell_type": "code",
   "execution_count": 4,
   "metadata": {
    "collapsed": true
   },
   "outputs": [],
   "source": [
    "train.X['ps_calc_01_log'] = np.log(train.X['ps_calc_01'])"
   ]
  },
  {
   "cell_type": "code",
   "execution_count": 5,
   "metadata": {},
   "outputs": [
    {
     "data": {
      "text/html": [
       "<div>\n",
       "<style>\n",
       "    .dataframe thead tr:only-child th {\n",
       "        text-align: right;\n",
       "    }\n",
       "\n",
       "    .dataframe thead th {\n",
       "        text-align: left;\n",
       "    }\n",
       "\n",
       "    .dataframe tbody tr th {\n",
       "        vertical-align: top;\n",
       "    }\n",
       "</style>\n",
       "<table border=\"1\" class=\"dataframe\">\n",
       "  <thead>\n",
       "    <tr style=\"text-align: right;\">\n",
       "      <th></th>\n",
       "      <th>ps_ind_01</th>\n",
       "      <th>ps_ind_02_cat</th>\n",
       "      <th>ps_ind_03</th>\n",
       "      <th>ps_ind_04_cat</th>\n",
       "      <th>ps_ind_05_cat</th>\n",
       "      <th>ps_ind_06_bin</th>\n",
       "      <th>ps_ind_07_bin</th>\n",
       "      <th>ps_ind_08_bin</th>\n",
       "      <th>ps_ind_09_bin</th>\n",
       "      <th>ps_ind_10_bin</th>\n",
       "      <th>...</th>\n",
       "      <th>ps_calc_12</th>\n",
       "      <th>ps_calc_13</th>\n",
       "      <th>ps_calc_14</th>\n",
       "      <th>ps_calc_15_bin</th>\n",
       "      <th>ps_calc_16_bin</th>\n",
       "      <th>ps_calc_17_bin</th>\n",
       "      <th>ps_calc_18_bin</th>\n",
       "      <th>ps_calc_19_bin</th>\n",
       "      <th>ps_calc_20_bin</th>\n",
       "      <th>ps_calc_01_log</th>\n",
       "    </tr>\n",
       "  </thead>\n",
       "  <tbody>\n",
       "    <tr>\n",
       "      <th>0</th>\n",
       "      <td>2</td>\n",
       "      <td>2.0</td>\n",
       "      <td>5</td>\n",
       "      <td>1.0</td>\n",
       "      <td>0.0</td>\n",
       "      <td>0</td>\n",
       "      <td>1</td>\n",
       "      <td>0</td>\n",
       "      <td>0</td>\n",
       "      <td>0</td>\n",
       "      <td>...</td>\n",
       "      <td>1</td>\n",
       "      <td>5</td>\n",
       "      <td>8</td>\n",
       "      <td>0</td>\n",
       "      <td>1</td>\n",
       "      <td>1</td>\n",
       "      <td>0</td>\n",
       "      <td>0</td>\n",
       "      <td>1</td>\n",
       "      <td>-0.510826</td>\n",
       "    </tr>\n",
       "    <tr>\n",
       "      <th>1</th>\n",
       "      <td>1</td>\n",
       "      <td>1.0</td>\n",
       "      <td>7</td>\n",
       "      <td>0.0</td>\n",
       "      <td>0.0</td>\n",
       "      <td>0</td>\n",
       "      <td>0</td>\n",
       "      <td>1</td>\n",
       "      <td>0</td>\n",
       "      <td>0</td>\n",
       "      <td>...</td>\n",
       "      <td>1</td>\n",
       "      <td>1</td>\n",
       "      <td>9</td>\n",
       "      <td>0</td>\n",
       "      <td>1</td>\n",
       "      <td>1</td>\n",
       "      <td>0</td>\n",
       "      <td>1</td>\n",
       "      <td>0</td>\n",
       "      <td>-1.203973</td>\n",
       "    </tr>\n",
       "    <tr>\n",
       "      <th>2</th>\n",
       "      <td>5</td>\n",
       "      <td>4.0</td>\n",
       "      <td>9</td>\n",
       "      <td>1.0</td>\n",
       "      <td>0.0</td>\n",
       "      <td>0</td>\n",
       "      <td>0</td>\n",
       "      <td>1</td>\n",
       "      <td>0</td>\n",
       "      <td>0</td>\n",
       "      <td>...</td>\n",
       "      <td>2</td>\n",
       "      <td>7</td>\n",
       "      <td>7</td>\n",
       "      <td>0</td>\n",
       "      <td>1</td>\n",
       "      <td>1</td>\n",
       "      <td>0</td>\n",
       "      <td>1</td>\n",
       "      <td>0</td>\n",
       "      <td>-0.693147</td>\n",
       "    </tr>\n",
       "    <tr>\n",
       "      <th>3</th>\n",
       "      <td>0</td>\n",
       "      <td>1.0</td>\n",
       "      <td>2</td>\n",
       "      <td>0.0</td>\n",
       "      <td>0.0</td>\n",
       "      <td>1</td>\n",
       "      <td>0</td>\n",
       "      <td>0</td>\n",
       "      <td>0</td>\n",
       "      <td>0</td>\n",
       "      <td>...</td>\n",
       "      <td>2</td>\n",
       "      <td>4</td>\n",
       "      <td>9</td>\n",
       "      <td>0</td>\n",
       "      <td>0</td>\n",
       "      <td>0</td>\n",
       "      <td>0</td>\n",
       "      <td>0</td>\n",
       "      <td>0</td>\n",
       "      <td>-0.510826</td>\n",
       "    </tr>\n",
       "    <tr>\n",
       "      <th>4</th>\n",
       "      <td>0</td>\n",
       "      <td>2.0</td>\n",
       "      <td>0</td>\n",
       "      <td>1.0</td>\n",
       "      <td>0.0</td>\n",
       "      <td>1</td>\n",
       "      <td>0</td>\n",
       "      <td>0</td>\n",
       "      <td>0</td>\n",
       "      <td>0</td>\n",
       "      <td>...</td>\n",
       "      <td>1</td>\n",
       "      <td>1</td>\n",
       "      <td>3</td>\n",
       "      <td>0</td>\n",
       "      <td>0</td>\n",
       "      <td>0</td>\n",
       "      <td>1</td>\n",
       "      <td>1</td>\n",
       "      <td>0</td>\n",
       "      <td>-0.916291</td>\n",
       "    </tr>\n",
       "  </tbody>\n",
       "</table>\n",
       "<p>5 rows × 58 columns</p>\n",
       "</div>"
      ],
      "text/plain": [
       "   ps_ind_01  ps_ind_02_cat  ps_ind_03  ps_ind_04_cat  ps_ind_05_cat  \\\n",
       "0          2            2.0          5            1.0            0.0   \n",
       "1          1            1.0          7            0.0            0.0   \n",
       "2          5            4.0          9            1.0            0.0   \n",
       "3          0            1.0          2            0.0            0.0   \n",
       "4          0            2.0          0            1.0            0.0   \n",
       "\n",
       "   ps_ind_06_bin  ps_ind_07_bin  ps_ind_08_bin  ps_ind_09_bin  ps_ind_10_bin  \\\n",
       "0              0              1              0              0              0   \n",
       "1              0              0              1              0              0   \n",
       "2              0              0              1              0              0   \n",
       "3              1              0              0              0              0   \n",
       "4              1              0              0              0              0   \n",
       "\n",
       "        ...        ps_calc_12  ps_calc_13  ps_calc_14  ps_calc_15_bin  \\\n",
       "0       ...                 1           5           8               0   \n",
       "1       ...                 1           1           9               0   \n",
       "2       ...                 2           7           7               0   \n",
       "3       ...                 2           4           9               0   \n",
       "4       ...                 1           1           3               0   \n",
       "\n",
       "   ps_calc_16_bin  ps_calc_17_bin  ps_calc_18_bin  ps_calc_19_bin  \\\n",
       "0               1               1               0               0   \n",
       "1               1               1               0               1   \n",
       "2               1               1               0               1   \n",
       "3               0               0               0               0   \n",
       "4               0               0               1               1   \n",
       "\n",
       "   ps_calc_20_bin  ps_calc_01_log  \n",
       "0               1       -0.510826  \n",
       "1               0       -1.203973  \n",
       "2               0       -0.693147  \n",
       "3               0       -0.510826  \n",
       "4               0       -0.916291  \n",
       "\n",
       "[5 rows x 58 columns]"
      ]
     },
     "execution_count": 5,
     "metadata": {},
     "output_type": "execute_result"
    }
   ],
   "source": [
    "train.X.head()"
   ]
  },
  {
   "cell_type": "code",
   "execution_count": null,
   "metadata": {
    "collapsed": true
   },
   "outputs": [],
   "source": []
  }
 ],
 "metadata": {
  "kernelspec": {
   "display_name": "Python 2",
   "language": "python",
   "name": "python2"
  },
  "language_info": {
   "codemirror_mode": {
    "name": "ipython",
    "version": 2
   },
   "file_extension": ".py",
   "mimetype": "text/x-python",
   "name": "python",
   "nbconvert_exporter": "python",
   "pygments_lexer": "ipython2",
   "version": "2.7.12"
  }
 },
 "nbformat": 4,
 "nbformat_minor": 2
}
