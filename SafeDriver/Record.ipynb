{
 "cells": [
  {
   "cell_type": "markdown",
   "metadata": {},
   "source": [
    "# report"
   ]
  },
  {
   "cell_type": "markdown",
   "metadata": {},
   "source": [
    "1.EDA"
   ]
  },
  {
   "cell_type": "markdown",
   "metadata": {},
   "source": [
    "2.预处理"
   ]
  },
  {
   "cell_type": "markdown",
   "metadata": {},
   "source": [
    "暂时先做最简单的， NA->-1, Dummy 所有cata且个数<10的， std没做"
   ]
  },
  {
   "cell_type": "markdown",
   "metadata": {},
   "source": [
    "3.BaseModel"
   ]
  },
  {
   "cell_type": "markdown",
   "metadata": {},
   "source": [
    "Boosting Trees"
   ]
  },
  {
   "cell_type": "markdown",
   "metadata": {},
   "source": [
    "RF"
   ]
  },
  {
   "cell_type": "markdown",
   "metadata": {},
   "source": [
    "GridSearch"
   ]
  },
  {
   "cell_type": "markdown",
   "metadata": {},
   "source": [
    "Fine Tuned Accuracy"
   ]
  },
  {
   "cell_type": "markdown",
   "metadata": {},
   "source": [
    "    XGB\n",
    "        param = {'eta': 0.02, \n",
    "                'max_depth': 4, \n",
    "                'subsample': 0.9, \n",
    "                'colsample_bytree': 0.9, \n",
    "                'objective': 'binary:logistic', \n",
    "                'eval_metric': 'auc', \n",
    "                'seed': 99, \n",
    "                'silent': True\n",
    "               }  \n",
    "    cv_accuracy = 0.2835\n",
    "    test = 0.280"
   ]
  },
  {
   "cell_type": "markdown",
   "metadata": {},
   "source": [
    "    LGBM1\n",
    "        param = {\n",
    "            'learning_rate' : 0.02,\n",
    "            'n_estimators' : 650,\n",
    "            'max_bin' : 10,\n",
    "            'subsample' : 0.8,\n",
    "            'subsample_freq' : 10,\n",
    "            'colsample_bytree' : 0.8,\n",
    "            'min_child_samples' : 500,\n",
    "            'seed' : 99,\n",
    "            }\n",
    "    cv_accuracy = 0.2844\n",
    "    test = 0.281"
   ]
  },
  {
   "cell_type": "markdown",
   "metadata": {},
   "source": [
    "    LGBM2\n",
    "        param = {\n",
    "                'learning_rate' : 0.02,\n",
    "                'n_estimators' : 1090,\n",
    "                'subsample' : 0.7,\n",
    "                'subsample_freq' : 2,\n",
    "                'num_leaves' : 16,\n",
    "                'seed' : 99,\n",
    "                }\n",
    "    cv_accuracy = 0.2833               \n",
    "    test = 0.281"
   ]
  },
  {
   "cell_type": "markdown",
   "metadata": {},
   "source": [
    "    RF\n",
    "        param = {'n_estimators': 150,\n",
    "                    'criterion': 'gini',\n",
    "                    'max_features': 'log2',\n",
    "                    'max_depth': 9,\n",
    "                    'min_samples_split': 70,\n",
    "                    'min_samples_leaf': 30,\n",
    "                    'n_jobs' : -1,\n",
    "                    'max_leaf_nodes': None,\n",
    "                    'bootstrap': True,\n",
    "                    'oob_score': True,\n",
    "                    'random_state': 99,\n",
    "                    'verbose': 0,\n",
    "                    'warm_start': True,\n",
    "                    'class_weight': {0: 0.0364, 1: 0.9635},\n",
    "                    }\n",
    "    cv_accuracy = 0.2589                 "
   ]
  },
  {
   "cell_type": "markdown",
   "metadata": {},
   "source": [
    "4.Stacking"
   ]
  },
  {
   "cell_type": "markdown",
   "metadata": {
    "collapsed": true
   },
   "source": [
    "    stacking\n",
    "        all_50%      : 0.272\n",
    "        all_weighted : 0.273\n",
    "        3_weighted   : 0.281\n",
    "        3_50%        : 0.282"
   ]
  },
  {
   "cell_type": "markdown",
   "metadata": {},
   "source": [
    "5.预处理测略"
   ]
  },
  {
   "cell_type": "markdown",
   "metadata": {},
   "source": [
    "    NA的列都删了？\n",
    "        xgboost : 0.2529\n",
    "        lgbm1   : 0.2502\n",
    "        lgbm2   : 0.2510"
   ]
  },
  {
   "cell_type": "markdown",
   "metadata": {},
   "source": [
    "std"
   ]
  },
  {
   "cell_type": "markdown",
   "metadata": {},
   "source": [
    "NA"
   ]
  },
  {
   "cell_type": "markdown",
   "metadata": {},
   "source": [
    "类别没有被Dummy的进行分析"
   ]
  },
  {
   "cell_type": "code",
   "execution_count": 4,
   "metadata": {},
   "outputs": [],
   "source": [
    "import pandas as pd\n",
    "import numpy as np\n",
    "from modeling import dataset\n",
    "train = pd.read_csv(\"./original/train.csv\")\n",
    "test = pd.read_csv(\"./original/test.csv\")\n",
    "# drop unrelated items\n",
    "train = dataset(train.drop(\"id\", 1).drop(\"target\", 1),\n",
    "                train.target.to_frame('target'))\n",
    "test = dataset(test.drop(\"id\", 1), test.id.to_frame('id'))\n",
    "# -1 are actually NaN\n",
    "train.X = train.X.replace(-1, np.nan)\n",
    "test.X = test .X.replace(-1, np.nan)"
   ]
  },
  {
   "cell_type": "code",
   "execution_count": 8,
   "metadata": {},
   "outputs": [
    {
     "name": "stdout",
     "output_type": "stream",
     "text": [
      "ps_ind_02_cat\n",
      "ps_ind_04_cat\n",
      "ps_ind_05_cat\n",
      "ps_reg_03\n",
      "ps_car_01_cat\n",
      "ps_car_02_cat\n",
      "ps_car_03_cat\n",
      "ps_car_05_cat\n",
      "ps_car_07_cat\n",
      "ps_car_09_cat\n",
      "ps_car_11\n",
      "ps_car_12\n",
      "ps_car_14\n"
     ]
    }
   ],
   "source": [
    "for col in train.X.columns:\n",
    "    if train.X[col].hasnans:\n",
    "        print(col)"
   ]
  },
  {
   "cell_type": "code",
   "execution_count": null,
   "metadata": {
    "collapsed": true
   },
   "outputs": [],
   "source": []
  }
 ],
 "metadata": {
  "kernelspec": {
   "display_name": "Python 2",
   "language": "python",
   "name": "python2"
  },
  "language_info": {
   "codemirror_mode": {
    "name": "ipython",
    "version": 2
   },
   "file_extension": ".py",
   "mimetype": "text/x-python",
   "name": "python",
   "nbconvert_exporter": "python",
   "pygments_lexer": "ipython2",
   "version": "2.7.14"
  }
 },
 "nbformat": 4,
 "nbformat_minor": 2
}
