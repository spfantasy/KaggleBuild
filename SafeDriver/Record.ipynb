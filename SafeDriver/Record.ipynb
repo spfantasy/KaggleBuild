{
 "cells": [
  {
   "cell_type": "markdown",
   "metadata": {},
   "source": [
    "# report"
   ]
  },
  {
   "cell_type": "markdown",
   "metadata": {},
   "source": [
    "1.EDA"
   ]
  },
  {
   "cell_type": "markdown",
   "metadata": {},
   "source": [
    "2.预处理"
   ]
  },
  {
   "cell_type": "markdown",
   "metadata": {},
   "source": [
    "暂时先做最简单的， NA->-1, Dummy 所有cata且个数<10的， std没做"
   ]
  },
  {
   "cell_type": "markdown",
   "metadata": {},
   "source": [
    "3.BaseModel"
   ]
  },
  {
   "cell_type": "markdown",
   "metadata": {},
   "source": [
    "Boosting Trees"
   ]
  },
  {
   "cell_type": "markdown",
   "metadata": {},
   "source": [
    "RF"
   ]
  },
  {
   "cell_type": "markdown",
   "metadata": {},
   "source": [
    "GridSearch"
   ]
  },
  {
   "cell_type": "markdown",
   "metadata": {},
   "source": [
    "Fine Tuned Accuracy"
   ]
  },
  {
   "cell_type": "markdown",
   "metadata": {},
   "source": [
    "    XGB\n",
    "        param = {'eta': 0.02, \n",
    "                'max_depth': 4, \n",
    "                'subsample': 0.9, \n",
    "                'colsample_bytree': 0.9, \n",
    "                'objective': 'binary:logistic', \n",
    "                'eval_metric': 'auc', \n",
    "                'seed': 99, \n",
    "                'silent': True\n",
    "               }  \n",
    "    cv_accuracy = 0.2835\n",
    "    test = 0.280"
   ]
  },
  {
   "cell_type": "markdown",
   "metadata": {},
   "source": [
    "    LGBM1\n",
    "        param = {\n",
    "            'learning_rate' : 0.02,\n",
    "            'n_estimators' : 650,\n",
    "            'max_bin' : 10,\n",
    "            'subsample' : 0.8,\n",
    "            'subsample_freq' : 10,\n",
    "            'colsample_bytree' : 0.8,\n",
    "            'min_child_samples' : 500,\n",
    "            'seed' : 99,\n",
    "            }\n",
    "    cv_accuracy = 0.2844\n",
    "    test = 0.281"
   ]
  },
  {
   "cell_type": "markdown",
   "metadata": {},
   "source": [
    "    LGBM2\n",
    "        param = {\n",
    "                'learning_rate' : 0.02,\n",
    "                'n_estimators' : 1090,\n",
    "                'subsample' : 0.7,\n",
    "                'subsample_freq' : 2,\n",
    "                'num_leaves' : 16,\n",
    "                'seed' : 99,\n",
    "                }\n",
    "    cv_accuracy = 0.2833               \n",
    "    test = 0.281"
   ]
  },
  {
   "cell_type": "markdown",
   "metadata": {},
   "source": [
    "    RF\n",
    "        param = {'n_estimators': 150,\n",
    "                    'criterion': 'gini',\n",
    "                    'max_features': 'log2',\n",
    "                    'max_depth': 9,\n",
    "                    'min_samples_split': 70,\n",
    "                    'min_samples_leaf': 30,\n",
    "                    'n_jobs' : -1,\n",
    "                    'max_leaf_nodes': None,\n",
    "                    'bootstrap': True,\n",
    "                    'oob_score': True,\n",
    "                    'random_state': 99,\n",
    "                    'verbose': 0,\n",
    "                    'warm_start': True,\n",
    "                    'class_weight': {0: 0.0364, 1: 0.9635},\n",
    "                    }\n",
    "    cv_accuracy = 0.2589                 "
   ]
  },
  {
   "cell_type": "markdown",
   "metadata": {},
   "source": [
    "4.Stacking"
   ]
  },
  {
   "cell_type": "markdown",
   "metadata": {
    "collapsed": true
   },
   "source": [
    "    stacking@test\n",
    "        all_50%      : 0.272\n",
    "        all_weighted : 0.273\n",
    "        3_weighted   : 0.281\n",
    "        3_50%        : 0.282"
   ]
  },
  {
   "cell_type": "markdown",
   "metadata": {},
   "source": [
    "5.预处理测略"
   ]
  },
  {
   "cell_type": "markdown",
   "metadata": {},
   "source": [
    "    不给dummy设置上限？变成227，看看看结果\n",
    "    ->validation\n",
    "        0.2840\n",
    "        0.2842\n",
    "        0.2838\n",
    "    ->test@stacking\n",
    "        0.283"
   ]
  },
  {
   "cell_type": "markdown",
   "metadata": {},
   "source": [
    "    +missing&reg*car\n",
    "        0.2844\n",
    "        0.2851\n",
    "        0.2839\n",
    "    ->test@stacking\n",
    "        0.282"
   ]
  },
  {
   "cell_type": "markdown",
   "metadata": {},
   "source": [
    "    dimension reduction\n",
    "    忽悠一下shadow\n",
    "        0.2856\n",
    "        0.2871\n",
    "        0.2854\n",
    "    ->test@stacking\n",
    "        0.285"
   ]
  },
  {
   "cell_type": "markdown",
   "metadata": {},
   "source": [
    "    NA的列都删了？(X)\n",
    "    ->validation\n",
    "        xgboost : 0.2529\n",
    "        lgbm1   : 0.2502\n",
    "        lgbm2   : 0.2510"
   ]
  },
  {
   "cell_type": "markdown",
   "metadata": {},
   "source": [
    "std"
   ]
  },
  {
   "cell_type": "markdown",
   "metadata": {},
   "source": [
    "    @xgboost\n",
    "    None    0.2856     10:34 -> 12:01\n",
    "    minmax  0.2855     13:23 -> 14:50 <-\n",
    "    meanstd 0.2854     16:17 -> 17:48"
   ]
  },
  {
   "cell_type": "markdown",
   "metadata": {},
   "source": [
    "NA"
   ]
  },
  {
   "cell_type": "markdown",
   "metadata": {
    "collapsed": true
   },
   "source": [
    "    bin/cata -> -1\n",
    "    else ->mean\n",
    "    @xg                0.2866\n",
    "    @lgbm1             0.2881\n",
    "    @lgbm2             0.2868\n",
    "    ->test@stacking\n",
    "        0.0285"
   ]
  },
  {
   "cell_type": "markdown",
   "metadata": {},
   "source": [
    "    这里用EM既费时间假设不对又结果不好，只有binary比较好用GMM"
   ]
  },
  {
   "cell_type": "markdown",
   "metadata": {},
   "source": [
    "类别没有被Dummy的进行分析"
   ]
  },
  {
   "cell_type": "code",
   "execution_count": 3,
   "metadata": {
    "collapsed": true
   },
   "outputs": [],
   "source": [
    "import numpy as np\n",
    "import pandas as pd"
   ]
  },
  {
   "cell_type": "code",
   "execution_count": 12,
   "metadata": {
    "collapsed": true
   },
   "outputs": [],
   "source": [
    "A = np.arange(15).reshape(3,5)"
   ]
  },
  {
   "cell_type": "code",
   "execution_count": 13,
   "metadata": {
    "collapsed": true
   },
   "outputs": [],
   "source": [
    "df = pd.DataFrame(A)"
   ]
  },
  {
   "cell_type": "code",
   "execution_count": 27,
   "metadata": {
    "collapsed": true
   },
   "outputs": [],
   "source": [
    "df.columns = ['a','b','c','d','e']"
   ]
  },
  {
   "cell_type": "code",
   "execution_count": 28,
   "metadata": {
    "collapsed": true
   },
   "outputs": [],
   "source": [
    "df.loc[0, 'a'] = np.nan\n",
    "df.loc[1, 'b'] = np.nan\n",
    "df.loc[2, 'c'] = np.nan\n",
    "df.loc[0, 'd'] = np.nan\n",
    "df.loc[1, 'a'] = np.nan"
   ]
  },
  {
   "cell_type": "code",
   "execution_count": 29,
   "metadata": {},
   "outputs": [
    {
     "data": {
      "text/html": [
       "<div>\n",
       "<style>\n",
       "    .dataframe thead tr:only-child th {\n",
       "        text-align: right;\n",
       "    }\n",
       "\n",
       "    .dataframe thead th {\n",
       "        text-align: left;\n",
       "    }\n",
       "\n",
       "    .dataframe tbody tr th {\n",
       "        vertical-align: top;\n",
       "    }\n",
       "</style>\n",
       "<table border=\"1\" class=\"dataframe\">\n",
       "  <thead>\n",
       "    <tr style=\"text-align: right;\">\n",
       "      <th></th>\n",
       "      <th>a</th>\n",
       "      <th>b</th>\n",
       "      <th>c</th>\n",
       "      <th>d</th>\n",
       "      <th>e</th>\n",
       "    </tr>\n",
       "  </thead>\n",
       "  <tbody>\n",
       "    <tr>\n",
       "      <th>0</th>\n",
       "      <td>NaN</td>\n",
       "      <td>1.0</td>\n",
       "      <td>2.0</td>\n",
       "      <td>NaN</td>\n",
       "      <td>4</td>\n",
       "    </tr>\n",
       "    <tr>\n",
       "      <th>1</th>\n",
       "      <td>NaN</td>\n",
       "      <td>NaN</td>\n",
       "      <td>7.0</td>\n",
       "      <td>8.0</td>\n",
       "      <td>9</td>\n",
       "    </tr>\n",
       "    <tr>\n",
       "      <th>2</th>\n",
       "      <td>10.0</td>\n",
       "      <td>11.0</td>\n",
       "      <td>NaN</td>\n",
       "      <td>13.0</td>\n",
       "      <td>14</td>\n",
       "    </tr>\n",
       "  </tbody>\n",
       "</table>\n",
       "</div>"
      ],
      "text/plain": [
       "      a     b    c     d   e\n",
       "0   NaN   1.0  2.0   NaN   4\n",
       "1   NaN   NaN  7.0   8.0   9\n",
       "2  10.0  11.0  NaN  13.0  14"
      ]
     },
     "execution_count": 29,
     "metadata": {},
     "output_type": "execute_result"
    }
   ],
   "source": [
    "df"
   ]
  },
  {
   "cell_type": "code",
   "execution_count": 30,
   "metadata": {},
   "outputs": [
    {
     "data": {
      "text/html": [
       "<div>\n",
       "<style>\n",
       "    .dataframe thead tr:only-child th {\n",
       "        text-align: right;\n",
       "    }\n",
       "\n",
       "    .dataframe thead th {\n",
       "        text-align: left;\n",
       "    }\n",
       "\n",
       "    .dataframe tbody tr th {\n",
       "        vertical-align: top;\n",
       "    }\n",
       "</style>\n",
       "<table border=\"1\" class=\"dataframe\">\n",
       "  <thead>\n",
       "    <tr style=\"text-align: right;\">\n",
       "      <th></th>\n",
       "      <th>a</th>\n",
       "      <th>b</th>\n",
       "      <th>c</th>\n",
       "      <th>d</th>\n",
       "      <th>e</th>\n",
       "    </tr>\n",
       "  </thead>\n",
       "  <tbody>\n",
       "    <tr>\n",
       "      <th>0</th>\n",
       "      <td>10.0</td>\n",
       "      <td>1.0</td>\n",
       "      <td>2.0</td>\n",
       "      <td>10.5</td>\n",
       "      <td>4</td>\n",
       "    </tr>\n",
       "    <tr>\n",
       "      <th>1</th>\n",
       "      <td>10.0</td>\n",
       "      <td>6.0</td>\n",
       "      <td>7.0</td>\n",
       "      <td>8.0</td>\n",
       "      <td>9</td>\n",
       "    </tr>\n",
       "    <tr>\n",
       "      <th>2</th>\n",
       "      <td>10.0</td>\n",
       "      <td>11.0</td>\n",
       "      <td>4.5</td>\n",
       "      <td>13.0</td>\n",
       "      <td>14</td>\n",
       "    </tr>\n",
       "  </tbody>\n",
       "</table>\n",
       "</div>"
      ],
      "text/plain": [
       "      a     b    c     d   e\n",
       "0  10.0   1.0  2.0  10.5   4\n",
       "1  10.0   6.0  7.0   8.0   9\n",
       "2  10.0  11.0  4.5  13.0  14"
      ]
     },
     "execution_count": 30,
     "metadata": {},
     "output_type": "execute_result"
    }
   ],
   "source": [
    "df.fillna(df.mean())"
   ]
  },
  {
   "cell_type": "code",
   "execution_count": 25,
   "metadata": {
    "collapsed": true
   },
   "outputs": [],
   "source": [
    "df['a'] = df['a'].fillna(-1)"
   ]
  },
  {
   "cell_type": "code",
   "execution_count": 31,
   "metadata": {},
   "outputs": [
    {
     "data": {
      "text/html": [
       "<div>\n",
       "<style>\n",
       "    .dataframe thead tr:only-child th {\n",
       "        text-align: right;\n",
       "    }\n",
       "\n",
       "    .dataframe thead th {\n",
       "        text-align: left;\n",
       "    }\n",
       "\n",
       "    .dataframe tbody tr th {\n",
       "        vertical-align: top;\n",
       "    }\n",
       "</style>\n",
       "<table border=\"1\" class=\"dataframe\">\n",
       "  <thead>\n",
       "    <tr style=\"text-align: right;\">\n",
       "      <th></th>\n",
       "      <th>a</th>\n",
       "      <th>b</th>\n",
       "      <th>c</th>\n",
       "      <th>d</th>\n",
       "      <th>e</th>\n",
       "    </tr>\n",
       "  </thead>\n",
       "  <tbody>\n",
       "    <tr>\n",
       "      <th>0</th>\n",
       "      <td>NaN</td>\n",
       "      <td>1.0</td>\n",
       "      <td>2.0</td>\n",
       "      <td>NaN</td>\n",
       "      <td>4</td>\n",
       "    </tr>\n",
       "    <tr>\n",
       "      <th>1</th>\n",
       "      <td>NaN</td>\n",
       "      <td>NaN</td>\n",
       "      <td>7.0</td>\n",
       "      <td>8.0</td>\n",
       "      <td>9</td>\n",
       "    </tr>\n",
       "    <tr>\n",
       "      <th>2</th>\n",
       "      <td>10.0</td>\n",
       "      <td>11.0</td>\n",
       "      <td>NaN</td>\n",
       "      <td>13.0</td>\n",
       "      <td>14</td>\n",
       "    </tr>\n",
       "  </tbody>\n",
       "</table>\n",
       "</div>"
      ],
      "text/plain": [
       "      a     b    c     d   e\n",
       "0   NaN   1.0  2.0   NaN   4\n",
       "1   NaN   NaN  7.0   8.0   9\n",
       "2  10.0  11.0  NaN  13.0  14"
      ]
     },
     "execution_count": 31,
     "metadata": {},
     "output_type": "execute_result"
    }
   ],
   "source": [
    "df"
   ]
  },
  {
   "cell_type": "code",
   "execution_count": null,
   "metadata": {
    "collapsed": true
   },
   "outputs": [],
   "source": []
  }
 ],
 "metadata": {
  "kernelspec": {
   "display_name": "Python 2",
   "language": "python",
   "name": "python2"
  },
  "language_info": {
   "codemirror_mode": {
    "name": "ipython",
    "version": 2
   },
   "file_extension": ".py",
   "mimetype": "text/x-python",
   "name": "python",
   "nbconvert_exporter": "python",
   "pygments_lexer": "ipython2",
   "version": "2.7.12"
  }
 },
 "nbformat": 4,
 "nbformat_minor": 2
}
