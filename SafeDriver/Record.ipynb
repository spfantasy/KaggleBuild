{
 "cells": [
  {
   "cell_type": "markdown",
   "metadata": {},
   "source": [
    "# report"
   ]
  },
  {
   "cell_type": "markdown",
   "metadata": {},
   "source": [
    "1.EDA"
   ]
  },
  {
   "cell_type": "markdown",
   "metadata": {},
   "source": [
    "2.预处理"
   ]
  },
  {
   "cell_type": "markdown",
   "metadata": {},
   "source": [
    "暂时先做最简单的， NA->-1, Dummy 所有cata且个数<10的， std没做"
   ]
  },
  {
   "cell_type": "markdown",
   "metadata": {},
   "source": [
    "3.BaseModel"
   ]
  },
  {
   "cell_type": "markdown",
   "metadata": {},
   "source": [
    "Boosting Trees"
   ]
  },
  {
   "cell_type": "markdown",
   "metadata": {},
   "source": [
    "RF"
   ]
  },
  {
   "cell_type": "markdown",
   "metadata": {},
   "source": [
    "GridSearch"
   ]
  },
  {
   "cell_type": "markdown",
   "metadata": {},
   "source": [
    "Fine Tuned Accuracy"
   ]
  },
  {
   "cell_type": "markdown",
   "metadata": {},
   "source": [
    "    XGB\n",
    "        param = {'eta': 0.02, \n",
    "                'max_depth': 4, \n",
    "                'subsample': 0.9, \n",
    "                'colsample_bytree': 0.9, \n",
    "                'objective': 'binary:logistic', \n",
    "                'eval_metric': 'auc', \n",
    "                'seed': 99, \n",
    "                'silent': True\n",
    "               }  \n",
    "    cv_accuracy = 0.2835\n",
    "    test = 0.280"
   ]
  },
  {
   "cell_type": "markdown",
   "metadata": {},
   "source": [
    "    LGBM1\n",
    "        param = {\n",
    "            'learning_rate' : 0.02,\n",
    "            'n_estimators' : 650,\n",
    "            'max_bin' : 10,\n",
    "            'subsample' : 0.8,\n",
    "            'subsample_freq' : 10,\n",
    "            'colsample_bytree' : 0.8,\n",
    "            'min_child_samples' : 500,\n",
    "            'seed' : 99,\n",
    "            }\n",
    "    cv_accuracy = 0.2844\n",
    "    test = 0.281"
   ]
  },
  {
   "cell_type": "markdown",
   "metadata": {},
   "source": [
    "    LGBM2\n",
    "        param = {\n",
    "                'learning_rate' : 0.02,\n",
    "                'n_estimators' : 1090,\n",
    "                'subsample' : 0.7,\n",
    "                'subsample_freq' : 2,\n",
    "                'num_leaves' : 16,\n",
    "                'seed' : 99,\n",
    "                }\n",
    "    cv_accuracy = 0.2833               \n",
    "    test = 0.281"
   ]
  },
  {
   "cell_type": "markdown",
   "metadata": {},
   "source": [
    "    RF\n",
    "        param = {'n_estimators': 150,\n",
    "                    'criterion': 'gini',\n",
    "                    'max_features': 'log2',\n",
    "                    'max_depth': 9,\n",
    "                    'min_samples_split': 70,\n",
    "                    'min_samples_leaf': 30,\n",
    "                    'n_jobs' : -1,\n",
    "                    'max_leaf_nodes': None,\n",
    "                    'bootstrap': True,\n",
    "                    'oob_score': True,\n",
    "                    'random_state': 99,\n",
    "                    'verbose': 0,\n",
    "                    'warm_start': True,\n",
    "                    'class_weight': {0: 0.0364, 1: 0.9635},\n",
    "                    }\n",
    "    cv_accuracy = 0.2589                 "
   ]
  },
  {
   "cell_type": "markdown",
   "metadata": {},
   "source": [
    "4.Stacking"
   ]
  },
  {
   "cell_type": "markdown",
   "metadata": {
    "collapsed": true
   },
   "source": [
    "    stacking@test\n",
    "        all_50%      : 0.272\n",
    "        all_weighted : 0.273\n",
    "        3_weighted   : 0.281\n",
    "        3_50%        : 0.282"
   ]
  },
  {
   "cell_type": "markdown",
   "metadata": {},
   "source": [
    "5.预处理测略"
   ]
  },
  {
   "cell_type": "markdown",
   "metadata": {},
   "source": [
    "    不给dummy设置上限？变成227，看看看结果\n",
    "    ->validation\n",
    "        0.2840\n",
    "        0.2842\n",
    "        0.2838\n",
    "    ->test@stacking\n",
    "        0.283"
   ]
  },
  {
   "cell_type": "markdown",
   "metadata": {},
   "source": [
    "    +missing&reg*car\n",
    "        0.2844\n",
    "        0.2851\n",
    "        0.2839\n",
    "    ->test@stacking\n",
    "        0.282"
   ]
  },
  {
   "cell_type": "markdown",
   "metadata": {},
   "source": [
    "    dimension reduction\n",
    "    忽悠一下shadow\n",
    "        0.2856\n",
    "        0.2871\n",
    "        0.2854\n",
    "    ->test@stacking\n",
    "        0.285"
   ]
  },
  {
   "cell_type": "markdown",
   "metadata": {},
   "source": [
    "    NA的列都删了？(X)\n",
    "    ->validation\n",
    "        xgboost : 0.2529\n",
    "        lgbm1   : 0.2502\n",
    "        lgbm2   : 0.2510"
   ]
  },
  {
   "cell_type": "markdown",
   "metadata": {},
   "source": [
    "std"
   ]
  },
  {
   "cell_type": "markdown",
   "metadata": {},
   "source": [
    "NA"
   ]
  },
  {
   "cell_type": "markdown",
   "metadata": {},
   "source": [
    "类别没有被Dummy的进行分析"
   ]
  },
  {
   "cell_type": "code",
   "execution_count": null,
   "metadata": {
    "collapsed": true
   },
   "outputs": [],
   "source": []
  }
 ],
 "metadata": {
  "kernelspec": {
   "display_name": "Python 2",
   "language": "python",
   "name": "python2"
  },
  "language_info": {
   "codemirror_mode": {
    "name": "ipython",
    "version": 2
   },
   "file_extension": ".py",
   "mimetype": "text/x-python",
   "name": "python",
   "nbconvert_exporter": "python",
   "pygments_lexer": "ipython2",
   "version": "2.7.12"
  }
 },
 "nbformat": 4,
 "nbformat_minor": 2
}
